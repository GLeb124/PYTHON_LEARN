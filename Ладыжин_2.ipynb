{
 "cells": [
  {
   "cell_type": "code",
   "execution_count": 33,
   "metadata": {},
   "outputs": [],
   "source": [
    "import pandas as pd\n",
    "import numpy as np\n",
    "import seaborn as sns"
   ]
  },
  {
   "cell_type": "code",
   "execution_count": 34,
   "metadata": {},
   "outputs": [],
   "source": [
    "import matplotlib.pyplot as plt\n",
    "%matplotlib inline"
   ]
  },
  {
   "cell_type": "code",
   "execution_count": 35,
   "metadata": {},
   "outputs": [],
   "source": [
    "test = pd.read_csv(\"C:\\\\Users\\\\gsladyzh\\\\Downloads\\\\test_data_regno.csv\", sep = ';', index_col='id')"
   ]
  },
  {
   "cell_type": "code",
   "execution_count": 36,
   "metadata": {
    "scrolled": true
   },
   "outputs": [
    {
     "data": {
      "text/html": [
       "<div>\n",
       "<style scoped>\n",
       "    .dataframe tbody tr th:only-of-type {\n",
       "        vertical-align: middle;\n",
       "    }\n",
       "\n",
       "    .dataframe tbody tr th {\n",
       "        vertical-align: top;\n",
       "    }\n",
       "\n",
       "    .dataframe thead th {\n",
       "        text-align: right;\n",
       "    }\n",
       "</style>\n",
       "<table border=\"1\" class=\"dataframe\">\n",
       "  <thead>\n",
       "    <tr style=\"text-align: right;\">\n",
       "      <th></th>\n",
       "      <th>camera_id</th>\n",
       "      <th>time_check</th>\n",
       "      <th>regno_recognize</th>\n",
       "      <th>regno_ai</th>\n",
       "      <th>regno</th>\n",
       "      <th>result_code</th>\n",
       "      <th>symbols</th>\n",
       "      <th>symbol_scores</th>\n",
       "      <th>length_scores</th>\n",
       "    </tr>\n",
       "    <tr>\n",
       "      <th>id</th>\n",
       "      <th></th>\n",
       "      <th></th>\n",
       "      <th></th>\n",
       "      <th></th>\n",
       "      <th></th>\n",
       "      <th></th>\n",
       "      <th></th>\n",
       "      <th></th>\n",
       "      <th></th>\n",
       "    </tr>\n",
       "  </thead>\n",
       "  <tbody>\n",
       "    <tr>\n",
       "      <th>1</th>\n",
       "      <td>844</td>\n",
       "      <td>00:00:00</td>\n",
       "      <td>У991КВ799</td>\n",
       "      <td>У991КВ799</td>\n",
       "      <td>У991КВ799</td>\n",
       "      <td>0</td>\n",
       "      <td>[\"У\", \"9\", \"9\", \"1\", \"К\", \"В\", \"7\", \"9\", \"9\"]</td>\n",
       "      <td>[0.9999366998672485, 0.9999223947525024, 0.999...</td>\n",
       "      <td>[0.000000034831597162110484, 0.000000034835451...</td>\n",
       "    </tr>\n",
       "    <tr>\n",
       "      <th>2</th>\n",
       "      <td>2516</td>\n",
       "      <td>00:00:00</td>\n",
       "      <td>О019УК177</td>\n",
       "      <td>О019УК177</td>\n",
       "      <td>О019УК177</td>\n",
       "      <td>0</td>\n",
       "      <td>[\"О\", \"0\", \"1\", \"9\", \"У\", \"К\", \"1\", \"7\", \"7\"]</td>\n",
       "      <td>[0.9998993873596191, 0.999862790107727, 0.9999...</td>\n",
       "      <td>[0.0000000068477667980459955, 0.00000000683332...</td>\n",
       "    </tr>\n",
       "    <tr>\n",
       "      <th>3</th>\n",
       "      <td>2476</td>\n",
       "      <td>00:00:00</td>\n",
       "      <td>Е175АК150</td>\n",
       "      <td>Е175АК150</td>\n",
       "      <td>Е175АК150</td>\n",
       "      <td>0</td>\n",
       "      <td>[\"Е\", \"1\", \"7\", \"5\", \"А\", \"К\", \"1\", \"5\", \"0\"]</td>\n",
       "      <td>[0.9997256398200989, 0.9999269247055054, 0.999...</td>\n",
       "      <td>[0.000000002039653557162069, 0.000000002043387...</td>\n",
       "    </tr>\n",
       "    <tr>\n",
       "      <th>4</th>\n",
       "      <td>1251</td>\n",
       "      <td>00:00:01</td>\n",
       "      <td>Т359ОН799</td>\n",
       "      <td>Т359ОН799</td>\n",
       "      <td>Т359ОН799</td>\n",
       "      <td>0</td>\n",
       "      <td>[\"Т\", \"3\", \"5\", \"9\", \"О\", \"Н\", \"7\", \"9\", \"9\"]</td>\n",
       "      <td>[0.9998781681060791, 0.9998764991760254, 0.999...</td>\n",
       "      <td>[0.00000002880540606042814, 0.0000000289985120...</td>\n",
       "    </tr>\n",
       "    <tr>\n",
       "      <th>5</th>\n",
       "      <td>2516</td>\n",
       "      <td>00:00:01</td>\n",
       "      <td>В521СУ750</td>\n",
       "      <td>В521СУ750</td>\n",
       "      <td>В521СУ750</td>\n",
       "      <td>0</td>\n",
       "      <td>[\"В\", \"5\", \"2\", \"1\", \"С\", \"У\", \"7\", \"5\", \"0\"]</td>\n",
       "      <td>[0.999920129776001, 0.9999333620071411, 0.9999...</td>\n",
       "      <td>[0.000000009300508807541519, 0.000000009201486...</td>\n",
       "    </tr>\n",
       "  </tbody>\n",
       "</table>\n",
       "</div>"
      ],
      "text/plain": [
       "    camera_id time_check regno_recognize   regno_ai      regno  result_code  \\\n",
       "id                                                                            \n",
       "1         844   00:00:00       У991КВ799  У991КВ799  У991КВ799            0   \n",
       "2        2516   00:00:00       О019УК177  О019УК177  О019УК177            0   \n",
       "3        2476   00:00:00       Е175АК150  Е175АК150  Е175АК150            0   \n",
       "4        1251   00:00:01       Т359ОН799  Т359ОН799  Т359ОН799            0   \n",
       "5        2516   00:00:01       В521СУ750  В521СУ750  В521СУ750            0   \n",
       "\n",
       "                                          symbols  \\\n",
       "id                                                  \n",
       "1   [\"У\", \"9\", \"9\", \"1\", \"К\", \"В\", \"7\", \"9\", \"9\"]   \n",
       "2   [\"О\", \"0\", \"1\", \"9\", \"У\", \"К\", \"1\", \"7\", \"7\"]   \n",
       "3   [\"Е\", \"1\", \"7\", \"5\", \"А\", \"К\", \"1\", \"5\", \"0\"]   \n",
       "4   [\"Т\", \"3\", \"5\", \"9\", \"О\", \"Н\", \"7\", \"9\", \"9\"]   \n",
       "5   [\"В\", \"5\", \"2\", \"1\", \"С\", \"У\", \"7\", \"5\", \"0\"]   \n",
       "\n",
       "                                        symbol_scores  \\\n",
       "id                                                      \n",
       "1   [0.9999366998672485, 0.9999223947525024, 0.999...   \n",
       "2   [0.9998993873596191, 0.999862790107727, 0.9999...   \n",
       "3   [0.9997256398200989, 0.9999269247055054, 0.999...   \n",
       "4   [0.9998781681060791, 0.9998764991760254, 0.999...   \n",
       "5   [0.999920129776001, 0.9999333620071411, 0.9999...   \n",
       "\n",
       "                                        length_scores  \n",
       "id                                                     \n",
       "1   [0.000000034831597162110484, 0.000000034835451...  \n",
       "2   [0.0000000068477667980459955, 0.00000000683332...  \n",
       "3   [0.000000002039653557162069, 0.000000002043387...  \n",
       "4   [0.00000002880540606042814, 0.0000000289985120...  \n",
       "5   [0.000000009300508807541519, 0.000000009201486...  "
      ]
     },
     "execution_count": 36,
     "metadata": {},
     "output_type": "execute_result"
    }
   ],
   "source": [
    "test.head()"
   ]
  },
  {
   "cell_type": "markdown",
   "metadata": {},
   "source": [
    "# Преобразование датасета"
   ]
  },
  {
   "cell_type": "code",
   "execution_count": 37,
   "metadata": {},
   "outputs": [],
   "source": [
    "test['time_check'] = pd.to_datetime(test['time_check'])"
   ]
  },
  {
   "cell_type": "code",
   "execution_count": 40,
   "metadata": {},
   "outputs": [],
   "source": [
    "test['Hour'] = pd.to_datetime(test['time_check'], format='%H:%M:%S').dt.hour"
   ]
  },
  {
   "cell_type": "markdown",
   "metadata": {},
   "source": [
    "## Преобразование length_scores в пандас серию"
   ]
  },
  {
   "cell_type": "code",
   "execution_count": 41,
   "metadata": {},
   "outputs": [],
   "source": [
    "score_length = (pd.melt(test.length_scores.replace(['\\]','\\[','\\,'],'',regex = True).str.split(' ').apply(pd.Series).reset_index(), \n",
    "             id_vars=['id'],\n",
    "             value_name='length_scores')\n",
    "     .set_index(['id'])\n",
    "     .sort_index()\n",
    "     )"
   ]
  },
  {
   "cell_type": "code",
   "execution_count": 42,
   "metadata": {},
   "outputs": [],
   "source": [
    "score_length['variable'] = score_length['variable'].astype(int)"
   ]
  },
  {
   "cell_type": "code",
   "execution_count": 43,
   "metadata": {},
   "outputs": [],
   "source": [
    "score_length = score_length.groupby('id').length_scores.agg('max')"
   ]
  },
  {
   "cell_type": "code",
   "execution_count": 44,
   "metadata": {},
   "outputs": [],
   "source": [
    "test = test.merge(score_length, how = 'inner', on = 'id')"
   ]
  },
  {
   "cell_type": "markdown",
   "metadata": {},
   "source": [
    "### Количество знаков в ГРЗ"
   ]
  },
  {
   "cell_type": "code",
   "execution_count": 45,
   "metadata": {},
   "outputs": [],
   "source": [
    "ss = test['symbol_scores'].str.split().apply(len)"
   ]
  },
  {
   "cell_type": "code",
   "execution_count": 46,
   "metadata": {},
   "outputs": [],
   "source": [
    "test = test.merge(ss, how = 'inner', on = 'id')"
   ]
  },
  {
   "cell_type": "code",
   "execution_count": 47,
   "metadata": {},
   "outputs": [
    {
     "data": {
      "text/html": [
       "<div>\n",
       "<style scoped>\n",
       "    .dataframe tbody tr th:only-of-type {\n",
       "        vertical-align: middle;\n",
       "    }\n",
       "\n",
       "    .dataframe tbody tr th {\n",
       "        vertical-align: top;\n",
       "    }\n",
       "\n",
       "    .dataframe thead th {\n",
       "        text-align: right;\n",
       "    }\n",
       "</style>\n",
       "<table border=\"1\" class=\"dataframe\">\n",
       "  <thead>\n",
       "    <tr style=\"text-align: right;\">\n",
       "      <th></th>\n",
       "      <th>camera_id</th>\n",
       "      <th>time_check</th>\n",
       "      <th>regno_recognize</th>\n",
       "      <th>regno_ai</th>\n",
       "      <th>regno</th>\n",
       "      <th>result_code</th>\n",
       "      <th>symbols</th>\n",
       "      <th>symbol_scores_x</th>\n",
       "      <th>length_scores_x</th>\n",
       "      <th>Hour</th>\n",
       "      <th>length_scores_y</th>\n",
       "      <th>symbol_scores_y</th>\n",
       "    </tr>\n",
       "    <tr>\n",
       "      <th>id</th>\n",
       "      <th></th>\n",
       "      <th></th>\n",
       "      <th></th>\n",
       "      <th></th>\n",
       "      <th></th>\n",
       "      <th></th>\n",
       "      <th></th>\n",
       "      <th></th>\n",
       "      <th></th>\n",
       "      <th></th>\n",
       "      <th></th>\n",
       "      <th></th>\n",
       "    </tr>\n",
       "  </thead>\n",
       "  <tbody>\n",
       "    <tr>\n",
       "      <th>1</th>\n",
       "      <td>844</td>\n",
       "      <td>2022-04-15 00:00:00</td>\n",
       "      <td>У991КВ799</td>\n",
       "      <td>У991КВ799</td>\n",
       "      <td>У991КВ799</td>\n",
       "      <td>0</td>\n",
       "      <td>[\"У\", \"9\", \"9\", \"1\", \"К\", \"В\", \"7\", \"9\", \"9\"]</td>\n",
       "      <td>[0.9999366998672485, 0.9999223947525024, 0.999...</td>\n",
       "      <td>[0.000000034831597162110484, 0.000000034835451...</td>\n",
       "      <td>0</td>\n",
       "      <td>0.9999313354492188</td>\n",
       "      <td>9</td>\n",
       "    </tr>\n",
       "    <tr>\n",
       "      <th>2</th>\n",
       "      <td>2516</td>\n",
       "      <td>2022-04-15 00:00:00</td>\n",
       "      <td>О019УК177</td>\n",
       "      <td>О019УК177</td>\n",
       "      <td>О019УК177</td>\n",
       "      <td>0</td>\n",
       "      <td>[\"О\", \"0\", \"1\", \"9\", \"У\", \"К\", \"1\", \"7\", \"7\"]</td>\n",
       "      <td>[0.9998993873596191, 0.999862790107727, 0.9999...</td>\n",
       "      <td>[0.0000000068477667980459955, 0.00000000683332...</td>\n",
       "      <td>0</td>\n",
       "      <td>0.9999903440475464</td>\n",
       "      <td>9</td>\n",
       "    </tr>\n",
       "    <tr>\n",
       "      <th>3</th>\n",
       "      <td>2476</td>\n",
       "      <td>2022-04-15 00:00:00</td>\n",
       "      <td>Е175АК150</td>\n",
       "      <td>Е175АК150</td>\n",
       "      <td>Е175АК150</td>\n",
       "      <td>0</td>\n",
       "      <td>[\"Е\", \"1\", \"7\", \"5\", \"А\", \"К\", \"1\", \"5\", \"0\"]</td>\n",
       "      <td>[0.9997256398200989, 0.9999269247055054, 0.999...</td>\n",
       "      <td>[0.000000002039653557162069, 0.000000002043387...</td>\n",
       "      <td>0</td>\n",
       "      <td>0.9999988079071045</td>\n",
       "      <td>9</td>\n",
       "    </tr>\n",
       "    <tr>\n",
       "      <th>4</th>\n",
       "      <td>1251</td>\n",
       "      <td>2022-04-15 00:00:01</td>\n",
       "      <td>Т359ОН799</td>\n",
       "      <td>Т359ОН799</td>\n",
       "      <td>Т359ОН799</td>\n",
       "      <td>0</td>\n",
       "      <td>[\"Т\", \"3\", \"5\", \"9\", \"О\", \"Н\", \"7\", \"9\", \"9\"]</td>\n",
       "      <td>[0.9998781681060791, 0.9998764991760254, 0.999...</td>\n",
       "      <td>[0.00000002880540606042814, 0.0000000289985120...</td>\n",
       "      <td>0</td>\n",
       "      <td>0.9999815225601196</td>\n",
       "      <td>9</td>\n",
       "    </tr>\n",
       "    <tr>\n",
       "      <th>5</th>\n",
       "      <td>2516</td>\n",
       "      <td>2022-04-15 00:00:01</td>\n",
       "      <td>В521СУ750</td>\n",
       "      <td>В521СУ750</td>\n",
       "      <td>В521СУ750</td>\n",
       "      <td>0</td>\n",
       "      <td>[\"В\", \"5\", \"2\", \"1\", \"С\", \"У\", \"7\", \"5\", \"0\"]</td>\n",
       "      <td>[0.999920129776001, 0.9999333620071411, 0.9999...</td>\n",
       "      <td>[0.000000009300508807541519, 0.000000009201486...</td>\n",
       "      <td>0</td>\n",
       "      <td>0.9999921321868896</td>\n",
       "      <td>9</td>\n",
       "    </tr>\n",
       "  </tbody>\n",
       "</table>\n",
       "</div>"
      ],
      "text/plain": [
       "    camera_id          time_check regno_recognize   regno_ai      regno  \\\n",
       "id                                                                        \n",
       "1         844 2022-04-15 00:00:00       У991КВ799  У991КВ799  У991КВ799   \n",
       "2        2516 2022-04-15 00:00:00       О019УК177  О019УК177  О019УК177   \n",
       "3        2476 2022-04-15 00:00:00       Е175АК150  Е175АК150  Е175АК150   \n",
       "4        1251 2022-04-15 00:00:01       Т359ОН799  Т359ОН799  Т359ОН799   \n",
       "5        2516 2022-04-15 00:00:01       В521СУ750  В521СУ750  В521СУ750   \n",
       "\n",
       "    result_code                                        symbols  \\\n",
       "id                                                               \n",
       "1             0  [\"У\", \"9\", \"9\", \"1\", \"К\", \"В\", \"7\", \"9\", \"9\"]   \n",
       "2             0  [\"О\", \"0\", \"1\", \"9\", \"У\", \"К\", \"1\", \"7\", \"7\"]   \n",
       "3             0  [\"Е\", \"1\", \"7\", \"5\", \"А\", \"К\", \"1\", \"5\", \"0\"]   \n",
       "4             0  [\"Т\", \"3\", \"5\", \"9\", \"О\", \"Н\", \"7\", \"9\", \"9\"]   \n",
       "5             0  [\"В\", \"5\", \"2\", \"1\", \"С\", \"У\", \"7\", \"5\", \"0\"]   \n",
       "\n",
       "                                      symbol_scores_x  \\\n",
       "id                                                      \n",
       "1   [0.9999366998672485, 0.9999223947525024, 0.999...   \n",
       "2   [0.9998993873596191, 0.999862790107727, 0.9999...   \n",
       "3   [0.9997256398200989, 0.9999269247055054, 0.999...   \n",
       "4   [0.9998781681060791, 0.9998764991760254, 0.999...   \n",
       "5   [0.999920129776001, 0.9999333620071411, 0.9999...   \n",
       "\n",
       "                                      length_scores_x  Hour  \\\n",
       "id                                                            \n",
       "1   [0.000000034831597162110484, 0.000000034835451...     0   \n",
       "2   [0.0000000068477667980459955, 0.00000000683332...     0   \n",
       "3   [0.000000002039653557162069, 0.000000002043387...     0   \n",
       "4   [0.00000002880540606042814, 0.0000000289985120...     0   \n",
       "5   [0.000000009300508807541519, 0.000000009201486...     0   \n",
       "\n",
       "       length_scores_y  symbol_scores_y  \n",
       "id                                       \n",
       "1   0.9999313354492188                9  \n",
       "2   0.9999903440475464                9  \n",
       "3   0.9999988079071045                9  \n",
       "4   0.9999815225601196                9  \n",
       "5   0.9999921321868896                9  "
      ]
     },
     "execution_count": 47,
     "metadata": {},
     "output_type": "execute_result"
    }
   ],
   "source": [
    "test.head()"
   ]
  },
  {
   "cell_type": "code",
   "execution_count": 48,
   "metadata": {},
   "outputs": [
    {
     "name": "stdout",
     "output_type": "stream",
     "text": [
      "<class 'pandas.core.frame.DataFrame'>\n",
      "Int64Index: 194214 entries, 1 to 194214\n",
      "Data columns (total 12 columns):\n",
      " #   Column           Non-Null Count   Dtype         \n",
      "---  ------           --------------   -----         \n",
      " 0   camera_id        194214 non-null  int64         \n",
      " 1   time_check       194214 non-null  datetime64[ns]\n",
      " 2   regno_recognize  194214 non-null  object        \n",
      " 3   regno_ai         194214 non-null  object        \n",
      " 4   regno            194214 non-null  object        \n",
      " 5   result_code      194214 non-null  int64         \n",
      " 6   symbols          194214 non-null  object        \n",
      " 7   symbol_scores_x  194214 non-null  object        \n",
      " 8   length_scores_x  194214 non-null  object        \n",
      " 9   Hour             194214 non-null  int64         \n",
      " 10  length_scores_y  194214 non-null  object        \n",
      " 11  symbol_scores_y  194214 non-null  int64         \n",
      "dtypes: datetime64[ns](1), int64(4), object(7)\n",
      "memory usage: 19.3+ MB\n"
     ]
    }
   ],
   "source": [
    "# test.drop(columns=['GRZ_score','score_min'],axis = 1)\n",
    "# test.drop(test.columns[[20, 19]], axis=1)\n",
    "# test['length_scores_end'] = test['length_scores_end'].astype(float)\n",
    "test.info()"
   ]
  },
  {
   "cell_type": "markdown",
   "metadata": {},
   "source": [
    "## Преобразование столбцов со списками в пандас.серии"
   ]
  },
  {
   "cell_type": "code",
   "execution_count": 49,
   "metadata": {},
   "outputs": [],
   "source": [
    "symbols = (pd.melt(test.symbols.replace(['\\]','\\[','\\,','\\\"'],'',regex = True).str.split(' ').apply(pd.Series).reset_index(), \n",
    "             id_vars=['id'],\n",
    "             value_name='GRZ')\n",
    "     .set_index(['id'])\n",
    "     .sort_index()\n",
    "     )"
   ]
  },
  {
   "cell_type": "code",
   "execution_count": 50,
   "metadata": {},
   "outputs": [],
   "source": [
    "symbol_scores = (pd.melt(test.symbol_scores_x.replace(['\\]','\\[','\\,','\\\"'],'',regex = True).str.split(' ').apply(pd.Series).reset_index(), \n",
    "             id_vars=['id'],\n",
    "             value_name='GRZ_score')\n",
    "     .set_index(['id'])\n",
    "     .sort_index()\n",
    "     )"
   ]
  },
  {
   "cell_type": "code",
   "execution_count": 51,
   "metadata": {},
   "outputs": [],
   "source": [
    "score_GRZ = symbols.merge(symbol_scores,how = 'inner', on = ['id','variable'])"
   ]
  },
  {
   "cell_type": "code",
   "execution_count": 52,
   "metadata": {},
   "outputs": [],
   "source": [
    "score_GRZ['GRZ_score'] = score_GRZ['GRZ_score'].astype(float)"
   ]
  },
  {
   "cell_type": "markdown",
   "metadata": {},
   "source": [
    "### поиск минимального и максимального скора по грз"
   ]
  },
  {
   "cell_type": "code",
   "execution_count": 53,
   "metadata": {},
   "outputs": [],
   "source": [
    "max_score_GRZ = score_GRZ.groupby('id', as_index=False).apply(lambda x: x.nlargest(1,['GRZ_score'])).reset_index(level=0, drop=True)"
   ]
  },
  {
   "cell_type": "code",
   "execution_count": 54,
   "metadata": {},
   "outputs": [],
   "source": [
    "mean_score_GRZ=score_GRZ.groupby('id').agg({'GRZ_score':'mean'})"
   ]
  },
  {
   "cell_type": "code",
   "execution_count": 55,
   "metadata": {},
   "outputs": [],
   "source": [
    "min_score_GRZ = score_GRZ.groupby('id', as_index=False).apply(lambda x: x.nsmallest(1,['GRZ_score'])).reset_index(level=0, drop=True)"
   ]
  },
  {
   "cell_type": "code",
   "execution_count": 56,
   "metadata": {},
   "outputs": [],
   "source": [
    "test = test.merge(max_score_GRZ,how='inner', on = 'id')"
   ]
  },
  {
   "cell_type": "code",
   "execution_count": 57,
   "metadata": {},
   "outputs": [],
   "source": [
    "test = test.merge(min_score_GRZ,how='inner', on = 'id')"
   ]
  },
  {
   "cell_type": "code",
   "execution_count": 58,
   "metadata": {},
   "outputs": [],
   "source": [
    "test = test.merge(mean_score_GRZ,how='inner', on = 'id')"
   ]
  },
  {
   "cell_type": "code",
   "execution_count": 59,
   "metadata": {},
   "outputs": [
    {
     "name": "stdout",
     "output_type": "stream",
     "text": [
      "<class 'pandas.core.frame.DataFrame'>\n",
      "Int64Index: 194214 entries, 1 to 194214\n",
      "Data columns (total 19 columns):\n",
      " #   Column           Non-Null Count   Dtype         \n",
      "---  ------           --------------   -----         \n",
      " 0   camera_id        194214 non-null  int64         \n",
      " 1   time_check       194214 non-null  datetime64[ns]\n",
      " 2   regno_recognize  194214 non-null  object        \n",
      " 3   regno_ai         194214 non-null  object        \n",
      " 4   regno            194214 non-null  object        \n",
      " 5   result_code      194214 non-null  int64         \n",
      " 6   symbols          194214 non-null  object        \n",
      " 7   symbol_scores_x  194214 non-null  object        \n",
      " 8   length_scores_x  194214 non-null  object        \n",
      " 9   Hour             194214 non-null  int64         \n",
      " 10  length_scores_y  194214 non-null  object        \n",
      " 11  symbol_scores_y  194214 non-null  int64         \n",
      " 12  variable_x       194214 non-null  object        \n",
      " 13  GRZ_x            194214 non-null  object        \n",
      " 14  GRZ_score_x      194214 non-null  float64       \n",
      " 15  variable_y       194214 non-null  object        \n",
      " 16  GRZ_y            194214 non-null  object        \n",
      " 17  GRZ_score_y      194214 non-null  float64       \n",
      " 18  GRZ_score        194214 non-null  float64       \n",
      "dtypes: datetime64[ns](1), float64(3), int64(4), object(11)\n",
      "memory usage: 29.6+ MB\n"
     ]
    }
   ],
   "source": [
    "test.info()"
   ]
  },
  {
   "cell_type": "code",
   "execution_count": 60,
   "metadata": {},
   "outputs": [],
   "source": [
    "test = test.rename(columns = {'symbol_scores_x': 'symbol_scores',\n",
    "                      'length_scores_x':'length_scores',\n",
    "                      'length_scores_y': 'length_scores_end',\n",
    "                      'symbol_scores_y':'index_last_score',\n",
    "                      'variable_x':'pos_max_score_symbol',\n",
    "                      'GRZ_x':'symbols_max_score',\n",
    "                      'GRZ_score_x':'score_max',\n",
    "                      'variable_y':'pos_min_score_symbol',\n",
    "                      'GRZ_y':'symbols_min_score',\n",
    "                      'GRZ_score_y':'score_min',\n",
    "                              'GRZ_score':'score_mean'})"
   ]
  },
  {
   "cell_type": "code",
   "execution_count": 122,
   "metadata": {},
   "outputs": [
    {
     "data": {
      "text/html": [
       "<div>\n",
       "<style scoped>\n",
       "    .dataframe tbody tr th:only-of-type {\n",
       "        vertical-align: middle;\n",
       "    }\n",
       "\n",
       "    .dataframe tbody tr th {\n",
       "        vertical-align: top;\n",
       "    }\n",
       "\n",
       "    .dataframe thead th {\n",
       "        text-align: right;\n",
       "    }\n",
       "</style>\n",
       "<table border=\"1\" class=\"dataframe\">\n",
       "  <thead>\n",
       "    <tr style=\"text-align: right;\">\n",
       "      <th></th>\n",
       "      <th>camera_id</th>\n",
       "      <th>time_check</th>\n",
       "      <th>regno_recognize</th>\n",
       "      <th>regno_ai</th>\n",
       "      <th>regno</th>\n",
       "      <th>result_code</th>\n",
       "      <th>symbols</th>\n",
       "      <th>symbol_scores</th>\n",
       "      <th>length_scores</th>\n",
       "      <th>Hour</th>\n",
       "      <th>length_scores_end</th>\n",
       "      <th>index_last_score</th>\n",
       "      <th>pos_max_score_symbol</th>\n",
       "      <th>symbols_max_score</th>\n",
       "      <th>score_max</th>\n",
       "      <th>pos_min_score_symbol</th>\n",
       "      <th>symbols_min_score</th>\n",
       "      <th>score_min</th>\n",
       "      <th>score_mean</th>\n",
       "    </tr>\n",
       "    <tr>\n",
       "      <th>id</th>\n",
       "      <th></th>\n",
       "      <th></th>\n",
       "      <th></th>\n",
       "      <th></th>\n",
       "      <th></th>\n",
       "      <th></th>\n",
       "      <th></th>\n",
       "      <th></th>\n",
       "      <th></th>\n",
       "      <th></th>\n",
       "      <th></th>\n",
       "      <th></th>\n",
       "      <th></th>\n",
       "      <th></th>\n",
       "      <th></th>\n",
       "      <th></th>\n",
       "      <th></th>\n",
       "      <th></th>\n",
       "      <th></th>\n",
       "    </tr>\n",
       "  </thead>\n",
       "  <tbody>\n",
       "    <tr>\n",
       "      <th>1</th>\n",
       "      <td>844</td>\n",
       "      <td>2022-04-15 00:00:00</td>\n",
       "      <td>У991КВ799</td>\n",
       "      <td>У991КВ799</td>\n",
       "      <td>У991КВ799</td>\n",
       "      <td>0</td>\n",
       "      <td>[\"У\", \"9\", \"9\", \"1\", \"К\", \"В\", \"7\", \"9\", \"9\"]</td>\n",
       "      <td>[0.9999366998672485, 0.9999223947525024, 0.999...</td>\n",
       "      <td>[0.000000034831597162110484, 0.000000034835451...</td>\n",
       "      <td>0</td>\n",
       "      <td>0.999931</td>\n",
       "      <td>9</td>\n",
       "      <td>0</td>\n",
       "      <td>У</td>\n",
       "      <td>0.999937</td>\n",
       "      <td>8</td>\n",
       "      <td>9</td>\n",
       "      <td>0.999081</td>\n",
       "      <td>0.999754</td>\n",
       "    </tr>\n",
       "    <tr>\n",
       "      <th>2</th>\n",
       "      <td>2516</td>\n",
       "      <td>2022-04-15 00:00:00</td>\n",
       "      <td>О019УК177</td>\n",
       "      <td>О019УК177</td>\n",
       "      <td>О019УК177</td>\n",
       "      <td>0</td>\n",
       "      <td>[\"О\", \"0\", \"1\", \"9\", \"У\", \"К\", \"1\", \"7\", \"7\"]</td>\n",
       "      <td>[0.9998993873596191, 0.999862790107727, 0.9999...</td>\n",
       "      <td>[0.0000000068477667980459955, 0.00000000683332...</td>\n",
       "      <td>0</td>\n",
       "      <td>0.999990</td>\n",
       "      <td>9</td>\n",
       "      <td>8</td>\n",
       "      <td>7</td>\n",
       "      <td>0.999973</td>\n",
       "      <td>1</td>\n",
       "      <td>0</td>\n",
       "      <td>0.999863</td>\n",
       "      <td>0.999911</td>\n",
       "    </tr>\n",
       "    <tr>\n",
       "      <th>3</th>\n",
       "      <td>2476</td>\n",
       "      <td>2022-04-15 00:00:00</td>\n",
       "      <td>Е175АК150</td>\n",
       "      <td>Е175АК150</td>\n",
       "      <td>Е175АК150</td>\n",
       "      <td>0</td>\n",
       "      <td>[\"Е\", \"1\", \"7\", \"5\", \"А\", \"К\", \"1\", \"5\", \"0\"]</td>\n",
       "      <td>[0.9997256398200989, 0.9999269247055054, 0.999...</td>\n",
       "      <td>[0.000000002039653557162069, 0.000000002043387...</td>\n",
       "      <td>0</td>\n",
       "      <td>0.999999</td>\n",
       "      <td>9</td>\n",
       "      <td>2</td>\n",
       "      <td>7</td>\n",
       "      <td>0.999964</td>\n",
       "      <td>0</td>\n",
       "      <td>Е</td>\n",
       "      <td>0.999726</td>\n",
       "      <td>0.999882</td>\n",
       "    </tr>\n",
       "    <tr>\n",
       "      <th>4</th>\n",
       "      <td>1251</td>\n",
       "      <td>2022-04-15 00:00:01</td>\n",
       "      <td>Т359ОН799</td>\n",
       "      <td>Т359ОН799</td>\n",
       "      <td>Т359ОН799</td>\n",
       "      <td>0</td>\n",
       "      <td>[\"Т\", \"3\", \"5\", \"9\", \"О\", \"Н\", \"7\", \"9\", \"9\"]</td>\n",
       "      <td>[0.9998781681060791, 0.9998764991760254, 0.999...</td>\n",
       "      <td>[0.00000002880540606042814, 0.0000000289985120...</td>\n",
       "      <td>0</td>\n",
       "      <td>0.999982</td>\n",
       "      <td>9</td>\n",
       "      <td>2</td>\n",
       "      <td>5</td>\n",
       "      <td>0.999909</td>\n",
       "      <td>6</td>\n",
       "      <td>7</td>\n",
       "      <td>0.999265</td>\n",
       "      <td>0.999653</td>\n",
       "    </tr>\n",
       "    <tr>\n",
       "      <th>5</th>\n",
       "      <td>2516</td>\n",
       "      <td>2022-04-15 00:00:01</td>\n",
       "      <td>В521СУ750</td>\n",
       "      <td>В521СУ750</td>\n",
       "      <td>В521СУ750</td>\n",
       "      <td>0</td>\n",
       "      <td>[\"В\", \"5\", \"2\", \"1\", \"С\", \"У\", \"7\", \"5\", \"0\"]</td>\n",
       "      <td>[0.999920129776001, 0.9999333620071411, 0.9999...</td>\n",
       "      <td>[0.000000009300508807541519, 0.000000009201486...</td>\n",
       "      <td>0</td>\n",
       "      <td>0.999992</td>\n",
       "      <td>9</td>\n",
       "      <td>8</td>\n",
       "      <td>0</td>\n",
       "      <td>0.999971</td>\n",
       "      <td>4</td>\n",
       "      <td>С</td>\n",
       "      <td>0.999577</td>\n",
       "      <td>0.999892</td>\n",
       "    </tr>\n",
       "  </tbody>\n",
       "</table>\n",
       "</div>"
      ],
      "text/plain": [
       "    camera_id          time_check regno_recognize   regno_ai      regno  \\\n",
       "id                                                                        \n",
       "1         844 2022-04-15 00:00:00       У991КВ799  У991КВ799  У991КВ799   \n",
       "2        2516 2022-04-15 00:00:00       О019УК177  О019УК177  О019УК177   \n",
       "3        2476 2022-04-15 00:00:00       Е175АК150  Е175АК150  Е175АК150   \n",
       "4        1251 2022-04-15 00:00:01       Т359ОН799  Т359ОН799  Т359ОН799   \n",
       "5        2516 2022-04-15 00:00:01       В521СУ750  В521СУ750  В521СУ750   \n",
       "\n",
       "    result_code                                        symbols  \\\n",
       "id                                                               \n",
       "1             0  [\"У\", \"9\", \"9\", \"1\", \"К\", \"В\", \"7\", \"9\", \"9\"]   \n",
       "2             0  [\"О\", \"0\", \"1\", \"9\", \"У\", \"К\", \"1\", \"7\", \"7\"]   \n",
       "3             0  [\"Е\", \"1\", \"7\", \"5\", \"А\", \"К\", \"1\", \"5\", \"0\"]   \n",
       "4             0  [\"Т\", \"3\", \"5\", \"9\", \"О\", \"Н\", \"7\", \"9\", \"9\"]   \n",
       "5             0  [\"В\", \"5\", \"2\", \"1\", \"С\", \"У\", \"7\", \"5\", \"0\"]   \n",
       "\n",
       "                                        symbol_scores  \\\n",
       "id                                                      \n",
       "1   [0.9999366998672485, 0.9999223947525024, 0.999...   \n",
       "2   [0.9998993873596191, 0.999862790107727, 0.9999...   \n",
       "3   [0.9997256398200989, 0.9999269247055054, 0.999...   \n",
       "4   [0.9998781681060791, 0.9998764991760254, 0.999...   \n",
       "5   [0.999920129776001, 0.9999333620071411, 0.9999...   \n",
       "\n",
       "                                        length_scores  Hour  \\\n",
       "id                                                            \n",
       "1   [0.000000034831597162110484, 0.000000034835451...     0   \n",
       "2   [0.0000000068477667980459955, 0.00000000683332...     0   \n",
       "3   [0.000000002039653557162069, 0.000000002043387...     0   \n",
       "4   [0.00000002880540606042814, 0.0000000289985120...     0   \n",
       "5   [0.000000009300508807541519, 0.000000009201486...     0   \n",
       "\n",
       "    length_scores_end  index_last_score pos_max_score_symbol  \\\n",
       "id                                                             \n",
       "1            0.999931                 9                    0   \n",
       "2            0.999990                 9                    8   \n",
       "3            0.999999                 9                    2   \n",
       "4            0.999982                 9                    2   \n",
       "5            0.999992                 9                    8   \n",
       "\n",
       "   symbols_max_score  score_max pos_min_score_symbol symbols_min_score  \\\n",
       "id                                                                       \n",
       "1                  У   0.999937                    8                 9   \n",
       "2                  7   0.999973                    1                 0   \n",
       "3                  7   0.999964                    0                 Е   \n",
       "4                  5   0.999909                    6                 7   \n",
       "5                  0   0.999971                    4                 С   \n",
       "\n",
       "    score_min  score_mean  \n",
       "id                         \n",
       "1    0.999081    0.999754  \n",
       "2    0.999863    0.999911  \n",
       "3    0.999726    0.999882  \n",
       "4    0.999265    0.999653  \n",
       "5    0.999577    0.999892  "
      ]
     },
     "execution_count": 122,
     "metadata": {},
     "output_type": "execute_result"
    }
   ],
   "source": [
    "test.head()"
   ]
  },
  {
   "cell_type": "markdown",
   "metadata": {},
   "source": [
    "length_scores_end = скор последнего элемента\n",
    "index_last_score = позиция последнего элемента\n",
    "pos_max_score_symbol = позиция символа с максимальным скором\n",
    "symbols_max_score = символ с максимальным скором\n",
    "score_max = максимальнй скор свимвола\n",
    "pos_min_score_symbol = позиция символа с минимальным скором\n",
    "symbols_min_score = символ с минимальным скором\n",
    "score_min = минимальный скор символа\n",
    "score_mean = средний скор по ГРЗ"
   ]
  },
  {
   "cell_type": "markdown",
   "metadata": {},
   "source": [
    "### фильтрация данных\n",
    "где новый алгоритм правильно предсказал грз, а старый предсказал неправильно"
   ]
  },
  {
   "cell_type": "code",
   "execution_count": 61,
   "metadata": {},
   "outputs": [],
   "source": [
    "test_AI = test.loc[(test['regno_recognize'] != test['regno']) & (test['regno_ai'] == test['regno'])]\n",
    "#                        "
   ]
  },
  {
   "cell_type": "markdown",
   "metadata": {},
   "source": [
    "фильтрация данных, где новый алгоритм неправильно предсказал грз, а старый предсказал правильно"
   ]
  },
  {
   "cell_type": "code",
   "execution_count": 62,
   "metadata": {},
   "outputs": [],
   "source": [
    "test_not_AI = test.loc[(test['regno_recognize'] == test['regno']) & (test['regno_ai'] != test['regno'])]\n",
    "#                     "
   ]
  },
  {
   "cell_type": "code",
   "execution_count": 63,
   "metadata": {},
   "outputs": [],
   "source": [
    "test_AI_not_AI = test.loc[(test['regno_recognize'] != test['regno']) & (test['regno_ai'] != test['regno'])]\n",
    "#                       тестирование"
   ]
  },
  {
   "cell_type": "code",
   "execution_count": 64,
   "metadata": {},
   "outputs": [
    {
     "name": "stderr",
     "output_type": "stream",
     "text": [
      "<ipython-input-64-00df16df8c1d>:1: SettingWithCopyWarning: \n",
      "A value is trying to be set on a copy of a slice from a DataFrame.\n",
      "Try using .loc[row_indexer,col_indexer] = value instead\n",
      "\n",
      "See the caveats in the documentation: https://pandas.pydata.org/pandas-docs/stable/user_guide/indexing.html#returning-a-view-versus-a-copy\n",
      "  test_AI['length_scores_end'] = test_AI['length_scores_end'].astype(float)\n"
     ]
    }
   ],
   "source": [
    "test_AI['length_scores_end'] = test_AI['length_scores_end'].astype(float)"
   ]
  },
  {
   "cell_type": "code",
   "execution_count": 65,
   "metadata": {},
   "outputs": [
    {
     "name": "stderr",
     "output_type": "stream",
     "text": [
      "<ipython-input-65-ceefbcc68eb4>:1: SettingWithCopyWarning: \n",
      "A value is trying to be set on a copy of a slice from a DataFrame.\n",
      "Try using .loc[row_indexer,col_indexer] = value instead\n",
      "\n",
      "See the caveats in the documentation: https://pandas.pydata.org/pandas-docs/stable/user_guide/indexing.html#returning-a-view-versus-a-copy\n",
      "  test_not_AI['length_scores_end'] = test_not_AI['length_scores_end'].astype(float)\n"
     ]
    }
   ],
   "source": [
    "test_not_AI['length_scores_end'] = test_not_AI['length_scores_end'].astype(float)"
   ]
  },
  {
   "cell_type": "markdown",
   "metadata": {},
   "source": [
    "количество символов в грз,количество правильно предсказанных новым алгоритмом, и их средний скор  "
   ]
  },
  {
   "cell_type": "code",
   "execution_count": 66,
   "metadata": {},
   "outputs": [
    {
     "data": {
      "text/html": [
       "<div>\n",
       "<style scoped>\n",
       "    .dataframe tbody tr th:only-of-type {\n",
       "        vertical-align: middle;\n",
       "    }\n",
       "\n",
       "    .dataframe tbody tr th {\n",
       "        vertical-align: top;\n",
       "    }\n",
       "\n",
       "    .dataframe thead tr th {\n",
       "        text-align: left;\n",
       "    }\n",
       "</style>\n",
       "<table border=\"1\" class=\"dataframe\">\n",
       "  <thead>\n",
       "    <tr>\n",
       "      <th></th>\n",
       "      <th colspan=\"2\" halign=\"left\">index_last_score</th>\n",
       "      <th>length_scores_end</th>\n",
       "    </tr>\n",
       "    <tr>\n",
       "      <th></th>\n",
       "      <th>mean</th>\n",
       "      <th>count</th>\n",
       "      <th>mean</th>\n",
       "    </tr>\n",
       "  </thead>\n",
       "  <tbody>\n",
       "    <tr>\n",
       "      <th>0</th>\n",
       "      <td>7</td>\n",
       "      <td>133</td>\n",
       "      <td>0.994523</td>\n",
       "    </tr>\n",
       "    <tr>\n",
       "      <th>1</th>\n",
       "      <td>8</td>\n",
       "      <td>1192</td>\n",
       "      <td>0.999683</td>\n",
       "    </tr>\n",
       "    <tr>\n",
       "      <th>2</th>\n",
       "      <td>9</td>\n",
       "      <td>8353</td>\n",
       "      <td>0.999821</td>\n",
       "    </tr>\n",
       "  </tbody>\n",
       "</table>\n",
       "</div>"
      ],
      "text/plain": [
       "  index_last_score       length_scores_end\n",
       "              mean count              mean\n",
       "0                7   133          0.994523\n",
       "1                8  1192          0.999683\n",
       "2                9  8353          0.999821"
      ]
     },
     "execution_count": 66,
     "metadata": {},
     "output_type": "execute_result"
    }
   ],
   "source": [
    "test_AI.groupby('index_last_score',as_index= False).agg({'index_last_score': ['mean', 'count'],'length_scores_end':'mean'})"
   ]
  },
  {
   "cell_type": "code",
   "execution_count": 67,
   "metadata": {},
   "outputs": [],
   "source": [
    "count_AI = test_AI.shape[0] #кол-во правильно предсказанных новым алгоритмом, где старый предсказал неправильно"
   ]
  },
  {
   "cell_type": "code",
   "execution_count": 68,
   "metadata": {},
   "outputs": [
    {
     "data": {
      "text/plain": [
       "9678"
      ]
     },
     "execution_count": 68,
     "metadata": {},
     "output_type": "execute_result"
    }
   ],
   "source": [
    "count_AI"
   ]
  },
  {
   "cell_type": "code",
   "execution_count": 69,
   "metadata": {},
   "outputs": [],
   "source": [
    "count_not = test_not_AI.shape[0] #кол-во правильно предсказанных старым алгоритмом, где новый предсказал неправильно"
   ]
  },
  {
   "cell_type": "code",
   "execution_count": 70,
   "metadata": {},
   "outputs": [
    {
     "data": {
      "text/plain": [
       "16430"
      ]
     },
     "execution_count": 70,
     "metadata": {},
     "output_type": "execute_result"
    }
   ],
   "source": [
    "count_not"
   ]
  },
  {
   "cell_type": "code",
   "execution_count": 71,
   "metadata": {},
   "outputs": [
    {
     "data": {
      "text/html": [
       "<div>\n",
       "<style scoped>\n",
       "    .dataframe tbody tr th:only-of-type {\n",
       "        vertical-align: middle;\n",
       "    }\n",
       "\n",
       "    .dataframe tbody tr th {\n",
       "        vertical-align: top;\n",
       "    }\n",
       "\n",
       "    .dataframe thead tr th {\n",
       "        text-align: left;\n",
       "    }\n",
       "</style>\n",
       "<table border=\"1\" class=\"dataframe\">\n",
       "  <thead>\n",
       "    <tr>\n",
       "      <th></th>\n",
       "      <th colspan=\"2\" halign=\"left\">index_last_score</th>\n",
       "      <th>length_scores_end</th>\n",
       "    </tr>\n",
       "    <tr>\n",
       "      <th></th>\n",
       "      <th>mean</th>\n",
       "      <th>count</th>\n",
       "      <th>mean</th>\n",
       "    </tr>\n",
       "  </thead>\n",
       "  <tbody>\n",
       "    <tr>\n",
       "      <th>0</th>\n",
       "      <td>7</td>\n",
       "      <td>5009</td>\n",
       "      <td>0.894598</td>\n",
       "    </tr>\n",
       "    <tr>\n",
       "      <th>1</th>\n",
       "      <td>8</td>\n",
       "      <td>7711</td>\n",
       "      <td>0.955914</td>\n",
       "    </tr>\n",
       "    <tr>\n",
       "      <th>2</th>\n",
       "      <td>9</td>\n",
       "      <td>3710</td>\n",
       "      <td>0.982223</td>\n",
       "    </tr>\n",
       "  </tbody>\n",
       "</table>\n",
       "</div>"
      ],
      "text/plain": [
       "  index_last_score       length_scores_end\n",
       "              mean count              mean\n",
       "0                7  5009          0.894598\n",
       "1                8  7711          0.955914\n",
       "2                9  3710          0.982223"
      ]
     },
     "execution_count": 71,
     "metadata": {},
     "output_type": "execute_result"
    }
   ],
   "source": [
    "test_not_AI.groupby('index_last_score',as_index= False).agg({'index_last_score': ['mean', 'count'],'length_scores_end':'mean'})\n"
   ]
  },
  {
   "cell_type": "code",
   "execution_count": 72,
   "metadata": {},
   "outputs": [],
   "source": [
    "count_not_AI = test_not_AI.shape[0]"
   ]
  },
  {
   "cell_type": "markdown",
   "metadata": {},
   "source": [
    "видно, что новый алгоритм лучше предсказывает грз если он состоит из 9 символов, но при этом хуже в остальных случаях"
   ]
  },
  {
   "cell_type": "code",
   "execution_count": 74,
   "metadata": {},
   "outputs": [
    {
     "data": {
      "text/html": [
       "<div>\n",
       "<style scoped>\n",
       "    .dataframe tbody tr th:only-of-type {\n",
       "        vertical-align: middle;\n",
       "    }\n",
       "\n",
       "    .dataframe tbody tr th {\n",
       "        vertical-align: top;\n",
       "    }\n",
       "\n",
       "    .dataframe thead tr th {\n",
       "        text-align: left;\n",
       "    }\n",
       "</style>\n",
       "<table border=\"1\" class=\"dataframe\">\n",
       "  <thead>\n",
       "    <tr>\n",
       "      <th></th>\n",
       "      <th colspan=\"2\" halign=\"left\">index_last_score</th>\n",
       "      <th>length_scores_end</th>\n",
       "    </tr>\n",
       "    <tr>\n",
       "      <th></th>\n",
       "      <th>mean</th>\n",
       "      <th>count</th>\n",
       "      <th>mean</th>\n",
       "    </tr>\n",
       "  </thead>\n",
       "  <tbody>\n",
       "    <tr>\n",
       "      <th>0</th>\n",
       "      <td>7</td>\n",
       "      <td>10727</td>\n",
       "      <td>0.939157</td>\n",
       "    </tr>\n",
       "    <tr>\n",
       "      <th>1</th>\n",
       "      <td>8</td>\n",
       "      <td>42410</td>\n",
       "      <td>0.989651</td>\n",
       "    </tr>\n",
       "    <tr>\n",
       "      <th>2</th>\n",
       "      <td>9</td>\n",
       "      <td>141077</td>\n",
       "      <td>0.999425</td>\n",
       "    </tr>\n",
       "  </tbody>\n",
       "</table>\n",
       "</div>"
      ],
      "text/plain": [
       "  index_last_score         length_scores_end\n",
       "              mean   count              mean\n",
       "0                7   10727          0.939157\n",
       "1                8   42410          0.989651\n",
       "2                9  141077          0.999425"
      ]
     },
     "execution_count": 74,
     "metadata": {},
     "output_type": "execute_result"
    }
   ],
   "source": [
    "test['length_scores_end'] = test['length_scores_end'].astype(float)\n",
    "test.groupby('index_last_score',as_index= False).agg({'index_last_score': ['mean', 'count'],'length_scores_end':'mean'})"
   ]
  },
  {
   "cell_type": "markdown",
   "metadata": {},
   "source": [
    "### статистика по символам "
   ]
  },
  {
   "cell_type": "code",
   "execution_count": 75,
   "metadata": {},
   "outputs": [],
   "source": [
    "AI = test_AI.groupby('symbols_max_score').agg({'score_max': 'mean','camera_id':'count'}).sort_values('symbols_max_score')"
   ]
  },
  {
   "cell_type": "code",
   "execution_count": 76,
   "metadata": {},
   "outputs": [],
   "source": [
    "not_AI = test_not_AI.groupby('symbols_max_score').agg({'score_max': 'mean','camera_id': 'count'}).sort_values('symbols_max_score')"
   ]
  },
  {
   "cell_type": "code",
   "execution_count": 77,
   "metadata": {},
   "outputs": [],
   "source": [
    "AI_min = test_AI.groupby('index_last_score',as_index= False).agg({'score_min': 'mean','camera_id':'count'}).sort_values('score_min')"
   ]
  },
  {
   "cell_type": "code",
   "execution_count": 78,
   "metadata": {},
   "outputs": [],
   "source": [
    "not_AI_min = test_not_AI.groupby('index_last_score',as_index= False).agg({'score_min': 'mean','camera_id': 'count'}).sort_values('score_min')"
   ]
  },
  {
   "cell_type": "code",
   "execution_count": 79,
   "metadata": {},
   "outputs": [],
   "source": [
    "AI = AI.merge(not_AI, how = 'outer', on='symbols_max_score' )"
   ]
  },
  {
   "cell_type": "code",
   "execution_count": 80,
   "metadata": {},
   "outputs": [],
   "source": [
    "AI['razmah'] = AI['score_max_x'] - AI['score_max_y']"
   ]
  },
  {
   "cell_type": "code",
   "execution_count": 81,
   "metadata": {},
   "outputs": [],
   "source": [
    "AI['razmah_count'] = AI['camera_id_x'] - AI['camera_id_y']"
   ]
  },
  {
   "cell_type": "code",
   "execution_count": 82,
   "metadata": {},
   "outputs": [],
   "source": [
    "AI_min = AI_min.merge(not_AI_min, how = 'outer', on='index_last_score' )"
   ]
  },
  {
   "cell_type": "code",
   "execution_count": 83,
   "metadata": {},
   "outputs": [],
   "source": [
    "AI_min['razmah_min'] = AI_min['score_min_x'] - AI_min['score_min_y']"
   ]
  },
  {
   "cell_type": "code",
   "execution_count": 84,
   "metadata": {},
   "outputs": [],
   "source": [
    "AI_min['razmah_count_min'] = AI_min['camera_id_x'] - AI_min['camera_id_y']"
   ]
  },
  {
   "cell_type": "code",
   "execution_count": 85,
   "metadata": {
    "scrolled": true
   },
   "outputs": [
    {
     "data": {
      "text/html": [
       "<div>\n",
       "<style scoped>\n",
       "    .dataframe tbody tr th:only-of-type {\n",
       "        vertical-align: middle;\n",
       "    }\n",
       "\n",
       "    .dataframe tbody tr th {\n",
       "        vertical-align: top;\n",
       "    }\n",
       "\n",
       "    .dataframe thead th {\n",
       "        text-align: right;\n",
       "    }\n",
       "</style>\n",
       "<table border=\"1\" class=\"dataframe\">\n",
       "  <thead>\n",
       "    <tr style=\"text-align: right;\">\n",
       "      <th></th>\n",
       "      <th>index_last_score</th>\n",
       "      <th>score_min_x</th>\n",
       "      <th>camera_id_x</th>\n",
       "      <th>score_min_y</th>\n",
       "      <th>camera_id_y</th>\n",
       "      <th>razmah_min</th>\n",
       "      <th>razmah_count_min</th>\n",
       "    </tr>\n",
       "  </thead>\n",
       "  <tbody>\n",
       "    <tr>\n",
       "      <th>0</th>\n",
       "      <td>7</td>\n",
       "      <td>0.958628</td>\n",
       "      <td>133</td>\n",
       "      <td>0.442088</td>\n",
       "      <td>5009</td>\n",
       "      <td>0.516540</td>\n",
       "      <td>-4876</td>\n",
       "    </tr>\n",
       "    <tr>\n",
       "      <th>1</th>\n",
       "      <td>8</td>\n",
       "      <td>0.992096</td>\n",
       "      <td>1192</td>\n",
       "      <td>0.407800</td>\n",
       "      <td>7711</td>\n",
       "      <td>0.584296</td>\n",
       "      <td>-6519</td>\n",
       "    </tr>\n",
       "    <tr>\n",
       "      <th>2</th>\n",
       "      <td>9</td>\n",
       "      <td>0.997069</td>\n",
       "      <td>8353</td>\n",
       "      <td>0.802537</td>\n",
       "      <td>3710</td>\n",
       "      <td>0.194532</td>\n",
       "      <td>4643</td>\n",
       "    </tr>\n",
       "  </tbody>\n",
       "</table>\n",
       "</div>"
      ],
      "text/plain": [
       "   index_last_score  score_min_x  camera_id_x  score_min_y  camera_id_y  \\\n",
       "0                 7     0.958628          133     0.442088         5009   \n",
       "1                 8     0.992096         1192     0.407800         7711   \n",
       "2                 9     0.997069         8353     0.802537         3710   \n",
       "\n",
       "   razmah_min  razmah_count_min  \n",
       "0    0.516540             -4876  \n",
       "1    0.584296             -6519  \n",
       "2    0.194532              4643  "
      ]
     },
     "execution_count": 85,
     "metadata": {},
     "output_type": "execute_result"
    }
   ],
   "source": [
    "AI_min # статистика по длине ГРЗ  с  минимальными скорами символов"
   ]
  },
  {
   "cell_type": "code",
   "execution_count": 86,
   "metadata": {},
   "outputs": [
    {
     "data": {
      "text/html": [
       "<div>\n",
       "<style scoped>\n",
       "    .dataframe tbody tr th:only-of-type {\n",
       "        vertical-align: middle;\n",
       "    }\n",
       "\n",
       "    .dataframe tbody tr th {\n",
       "        vertical-align: top;\n",
       "    }\n",
       "\n",
       "    .dataframe thead th {\n",
       "        text-align: right;\n",
       "    }\n",
       "</style>\n",
       "<table border=\"1\" class=\"dataframe\">\n",
       "  <thead>\n",
       "    <tr style=\"text-align: right;\">\n",
       "      <th></th>\n",
       "      <th>score_max_x</th>\n",
       "      <th>camera_id_x</th>\n",
       "      <th>score_max_y</th>\n",
       "      <th>camera_id_y</th>\n",
       "      <th>razmah</th>\n",
       "      <th>razmah_count</th>\n",
       "    </tr>\n",
       "    <tr>\n",
       "      <th>symbols_max_score</th>\n",
       "      <th></th>\n",
       "      <th></th>\n",
       "      <th></th>\n",
       "      <th></th>\n",
       "      <th></th>\n",
       "      <th></th>\n",
       "    </tr>\n",
       "  </thead>\n",
       "  <tbody>\n",
       "    <tr>\n",
       "      <th>0</th>\n",
       "      <td>0.999969</td>\n",
       "      <td>571.0</td>\n",
       "      <td>0.964633</td>\n",
       "      <td>1842</td>\n",
       "      <td>0.035335</td>\n",
       "      <td>-1271.0</td>\n",
       "    </tr>\n",
       "    <tr>\n",
       "      <th>1</th>\n",
       "      <td>0.999981</td>\n",
       "      <td>1690.0</td>\n",
       "      <td>0.981904</td>\n",
       "      <td>1431</td>\n",
       "      <td>0.018077</td>\n",
       "      <td>259.0</td>\n",
       "    </tr>\n",
       "    <tr>\n",
       "      <th>2</th>\n",
       "      <td>0.999962</td>\n",
       "      <td>203.0</td>\n",
       "      <td>0.978899</td>\n",
       "      <td>1070</td>\n",
       "      <td>0.021063</td>\n",
       "      <td>-867.0</td>\n",
       "    </tr>\n",
       "    <tr>\n",
       "      <th>3</th>\n",
       "      <td>0.999524</td>\n",
       "      <td>193.0</td>\n",
       "      <td>0.952603</td>\n",
       "      <td>413</td>\n",
       "      <td>0.046921</td>\n",
       "      <td>-220.0</td>\n",
       "    </tr>\n",
       "    <tr>\n",
       "      <th>4</th>\n",
       "      <td>0.999964</td>\n",
       "      <td>290.0</td>\n",
       "      <td>0.979541</td>\n",
       "      <td>786</td>\n",
       "      <td>0.020423</td>\n",
       "      <td>-496.0</td>\n",
       "    </tr>\n",
       "    <tr>\n",
       "      <th>5</th>\n",
       "      <td>0.999957</td>\n",
       "      <td>307.0</td>\n",
       "      <td>0.961613</td>\n",
       "      <td>1063</td>\n",
       "      <td>0.038344</td>\n",
       "      <td>-756.0</td>\n",
       "    </tr>\n",
       "    <tr>\n",
       "      <th>6</th>\n",
       "      <td>0.999867</td>\n",
       "      <td>376.0</td>\n",
       "      <td>0.955988</td>\n",
       "      <td>543</td>\n",
       "      <td>0.043879</td>\n",
       "      <td>-167.0</td>\n",
       "    </tr>\n",
       "    <tr>\n",
       "      <th>7</th>\n",
       "      <td>0.999981</td>\n",
       "      <td>3130.0</td>\n",
       "      <td>0.991339</td>\n",
       "      <td>3868</td>\n",
       "      <td>0.008642</td>\n",
       "      <td>-738.0</td>\n",
       "    </tr>\n",
       "    <tr>\n",
       "      <th>8</th>\n",
       "      <td>0.999959</td>\n",
       "      <td>217.0</td>\n",
       "      <td>0.975065</td>\n",
       "      <td>846</td>\n",
       "      <td>0.024893</td>\n",
       "      <td>-629.0</td>\n",
       "    </tr>\n",
       "    <tr>\n",
       "      <th>9</th>\n",
       "      <td>0.999982</td>\n",
       "      <td>1300.0</td>\n",
       "      <td>0.990472</td>\n",
       "      <td>1788</td>\n",
       "      <td>0.009510</td>\n",
       "      <td>-488.0</td>\n",
       "    </tr>\n",
       "    <tr>\n",
       "      <th>А</th>\n",
       "      <td>0.999976</td>\n",
       "      <td>346.0</td>\n",
       "      <td>0.981937</td>\n",
       "      <td>736</td>\n",
       "      <td>0.018039</td>\n",
       "      <td>-390.0</td>\n",
       "    </tr>\n",
       "    <tr>\n",
       "      <th>В</th>\n",
       "      <td>0.999965</td>\n",
       "      <td>148.0</td>\n",
       "      <td>0.966492</td>\n",
       "      <td>226</td>\n",
       "      <td>0.033473</td>\n",
       "      <td>-78.0</td>\n",
       "    </tr>\n",
       "    <tr>\n",
       "      <th>Е</th>\n",
       "      <td>0.999962</td>\n",
       "      <td>189.0</td>\n",
       "      <td>0.978046</td>\n",
       "      <td>482</td>\n",
       "      <td>0.021916</td>\n",
       "      <td>-293.0</td>\n",
       "    </tr>\n",
       "    <tr>\n",
       "      <th>К</th>\n",
       "      <td>0.999952</td>\n",
       "      <td>41.0</td>\n",
       "      <td>0.987346</td>\n",
       "      <td>280</td>\n",
       "      <td>0.012606</td>\n",
       "      <td>-239.0</td>\n",
       "    </tr>\n",
       "    <tr>\n",
       "      <th>М</th>\n",
       "      <td>0.999959</td>\n",
       "      <td>131.0</td>\n",
       "      <td>0.975573</td>\n",
       "      <td>203</td>\n",
       "      <td>0.024386</td>\n",
       "      <td>-72.0</td>\n",
       "    </tr>\n",
       "    <tr>\n",
       "      <th>Н</th>\n",
       "      <td>0.999957</td>\n",
       "      <td>71.0</td>\n",
       "      <td>0.973192</td>\n",
       "      <td>70</td>\n",
       "      <td>0.026765</td>\n",
       "      <td>1.0</td>\n",
       "    </tr>\n",
       "    <tr>\n",
       "      <th>О</th>\n",
       "      <td>0.999960</td>\n",
       "      <td>131.0</td>\n",
       "      <td>0.975290</td>\n",
       "      <td>65</td>\n",
       "      <td>0.024670</td>\n",
       "      <td>66.0</td>\n",
       "    </tr>\n",
       "    <tr>\n",
       "      <th>Р</th>\n",
       "      <td>0.999957</td>\n",
       "      <td>101.0</td>\n",
       "      <td>0.984290</td>\n",
       "      <td>162</td>\n",
       "      <td>0.015667</td>\n",
       "      <td>-61.0</td>\n",
       "    </tr>\n",
       "    <tr>\n",
       "      <th>С</th>\n",
       "      <td>0.999961</td>\n",
       "      <td>76.0</td>\n",
       "      <td>0.983593</td>\n",
       "      <td>174</td>\n",
       "      <td>0.016368</td>\n",
       "      <td>-98.0</td>\n",
       "    </tr>\n",
       "    <tr>\n",
       "      <th>Т</th>\n",
       "      <td>0.999954</td>\n",
       "      <td>24.0</td>\n",
       "      <td>0.961529</td>\n",
       "      <td>93</td>\n",
       "      <td>0.038425</td>\n",
       "      <td>-69.0</td>\n",
       "    </tr>\n",
       "    <tr>\n",
       "      <th>У</th>\n",
       "      <td>0.999948</td>\n",
       "      <td>49.0</td>\n",
       "      <td>0.975544</td>\n",
       "      <td>54</td>\n",
       "      <td>0.024404</td>\n",
       "      <td>-5.0</td>\n",
       "    </tr>\n",
       "    <tr>\n",
       "      <th>Х</th>\n",
       "      <td>0.999965</td>\n",
       "      <td>94.0</td>\n",
       "      <td>0.992966</td>\n",
       "      <td>220</td>\n",
       "      <td>0.006999</td>\n",
       "      <td>-126.0</td>\n",
       "    </tr>\n",
       "    <tr>\n",
       "      <th>D</th>\n",
       "      <td>NaN</td>\n",
       "      <td>NaN</td>\n",
       "      <td>0.794876</td>\n",
       "      <td>15</td>\n",
       "      <td>NaN</td>\n",
       "      <td>NaN</td>\n",
       "    </tr>\n",
       "  </tbody>\n",
       "</table>\n",
       "</div>"
      ],
      "text/plain": [
       "                   score_max_x  camera_id_x  score_max_y  camera_id_y  \\\n",
       "symbols_max_score                                                       \n",
       "0                     0.999969        571.0     0.964633         1842   \n",
       "1                     0.999981       1690.0     0.981904         1431   \n",
       "2                     0.999962        203.0     0.978899         1070   \n",
       "3                     0.999524        193.0     0.952603          413   \n",
       "4                     0.999964        290.0     0.979541          786   \n",
       "5                     0.999957        307.0     0.961613         1063   \n",
       "6                     0.999867        376.0     0.955988          543   \n",
       "7                     0.999981       3130.0     0.991339         3868   \n",
       "8                     0.999959        217.0     0.975065          846   \n",
       "9                     0.999982       1300.0     0.990472         1788   \n",
       "А                     0.999976        346.0     0.981937          736   \n",
       "В                     0.999965        148.0     0.966492          226   \n",
       "Е                     0.999962        189.0     0.978046          482   \n",
       "К                     0.999952         41.0     0.987346          280   \n",
       "М                     0.999959        131.0     0.975573          203   \n",
       "Н                     0.999957         71.0     0.973192           70   \n",
       "О                     0.999960        131.0     0.975290           65   \n",
       "Р                     0.999957        101.0     0.984290          162   \n",
       "С                     0.999961         76.0     0.983593          174   \n",
       "Т                     0.999954         24.0     0.961529           93   \n",
       "У                     0.999948         49.0     0.975544           54   \n",
       "Х                     0.999965         94.0     0.992966          220   \n",
       "D                          NaN          NaN     0.794876           15   \n",
       "\n",
       "                     razmah  razmah_count  \n",
       "symbols_max_score                          \n",
       "0                  0.035335       -1271.0  \n",
       "1                  0.018077         259.0  \n",
       "2                  0.021063        -867.0  \n",
       "3                  0.046921        -220.0  \n",
       "4                  0.020423        -496.0  \n",
       "5                  0.038344        -756.0  \n",
       "6                  0.043879        -167.0  \n",
       "7                  0.008642        -738.0  \n",
       "8                  0.024893        -629.0  \n",
       "9                  0.009510        -488.0  \n",
       "А                  0.018039        -390.0  \n",
       "В                  0.033473         -78.0  \n",
       "Е                  0.021916        -293.0  \n",
       "К                  0.012606        -239.0  \n",
       "М                  0.024386         -72.0  \n",
       "Н                  0.026765           1.0  \n",
       "О                  0.024670          66.0  \n",
       "Р                  0.015667         -61.0  \n",
       "С                  0.016368         -98.0  \n",
       "Т                  0.038425         -69.0  \n",
       "У                  0.024404          -5.0  \n",
       "Х                  0.006999        -126.0  \n",
       "D                       NaN           NaN  "
      ]
     },
     "execution_count": 86,
     "metadata": {},
     "output_type": "execute_result"
    }
   ],
   "source": [
    "AI"
   ]
  },
  {
   "cell_type": "code",
   "execution_count": 87,
   "metadata": {},
   "outputs": [],
   "source": [
    "AI_mean = test_AI.groupby('index_last_score').agg({'score_mean': 'mean','camera_id':'count'}).sort_values('index_last_score')"
   ]
  },
  {
   "cell_type": "code",
   "execution_count": 88,
   "metadata": {},
   "outputs": [],
   "source": [
    "not_AI_mean = test_not_AI.groupby('index_last_score').agg({'score_mean': 'mean','camera_id': 'count'}).sort_values('index_last_score')"
   ]
  },
  {
   "cell_type": "code",
   "execution_count": 89,
   "metadata": {},
   "outputs": [
    {
     "data": {
      "text/html": [
       "<div>\n",
       "<style scoped>\n",
       "    .dataframe tbody tr th:only-of-type {\n",
       "        vertical-align: middle;\n",
       "    }\n",
       "\n",
       "    .dataframe tbody tr th {\n",
       "        vertical-align: top;\n",
       "    }\n",
       "\n",
       "    .dataframe thead th {\n",
       "        text-align: right;\n",
       "    }\n",
       "</style>\n",
       "<table border=\"1\" class=\"dataframe\">\n",
       "  <thead>\n",
       "    <tr style=\"text-align: right;\">\n",
       "      <th></th>\n",
       "      <th>score_mean</th>\n",
       "      <th>camera_id</th>\n",
       "    </tr>\n",
       "    <tr>\n",
       "      <th>index_last_score</th>\n",
       "      <th></th>\n",
       "      <th></th>\n",
       "    </tr>\n",
       "  </thead>\n",
       "  <tbody>\n",
       "    <tr>\n",
       "      <th>7</th>\n",
       "      <td>0.746371</td>\n",
       "      <td>5009</td>\n",
       "    </tr>\n",
       "    <tr>\n",
       "      <th>8</th>\n",
       "      <td>0.771080</td>\n",
       "      <td>7711</td>\n",
       "    </tr>\n",
       "    <tr>\n",
       "      <th>9</th>\n",
       "      <td>0.954174</td>\n",
       "      <td>3710</td>\n",
       "    </tr>\n",
       "  </tbody>\n",
       "</table>\n",
       "</div>"
      ],
      "text/plain": [
       "                  score_mean  camera_id\n",
       "index_last_score                       \n",
       "7                   0.746371       5009\n",
       "8                   0.771080       7711\n",
       "9                   0.954174       3710"
      ]
     },
     "execution_count": 89,
     "metadata": {},
     "output_type": "execute_result"
    }
   ],
   "source": [
    "not_AI_mean"
   ]
  },
  {
   "cell_type": "code",
   "execution_count": 90,
   "metadata": {},
   "outputs": [],
   "source": [
    "AI_mean = AI_mean.merge(not_AI_mean, how = 'outer', on='index_last_score')\n"
   ]
  },
  {
   "cell_type": "code",
   "execution_count": 91,
   "metadata": {},
   "outputs": [],
   "source": [
    "AI_mean['razmah'] = AI_mean['score_mean_x'] - AI_mean['score_mean_y']"
   ]
  },
  {
   "cell_type": "code",
   "execution_count": 92,
   "metadata": {},
   "outputs": [],
   "source": [
    "AI_mean['razmah_count'] = AI_mean['camera_id_x'] - AI_mean['camera_id_y']"
   ]
  },
  {
   "cell_type": "code",
   "execution_count": 93,
   "metadata": {},
   "outputs": [
    {
     "data": {
      "text/html": [
       "<div>\n",
       "<style scoped>\n",
       "    .dataframe tbody tr th:only-of-type {\n",
       "        vertical-align: middle;\n",
       "    }\n",
       "\n",
       "    .dataframe tbody tr th {\n",
       "        vertical-align: top;\n",
       "    }\n",
       "\n",
       "    .dataframe thead th {\n",
       "        text-align: right;\n",
       "    }\n",
       "</style>\n",
       "<table border=\"1\" class=\"dataframe\">\n",
       "  <thead>\n",
       "    <tr style=\"text-align: right;\">\n",
       "      <th></th>\n",
       "      <th>score_mean_x</th>\n",
       "      <th>camera_id_x</th>\n",
       "      <th>score_mean_y</th>\n",
       "      <th>camera_id_y</th>\n",
       "      <th>razmah</th>\n",
       "      <th>razmah_count</th>\n",
       "    </tr>\n",
       "    <tr>\n",
       "      <th>index_last_score</th>\n",
       "      <th></th>\n",
       "      <th></th>\n",
       "      <th></th>\n",
       "      <th></th>\n",
       "      <th></th>\n",
       "      <th></th>\n",
       "    </tr>\n",
       "  </thead>\n",
       "  <tbody>\n",
       "    <tr>\n",
       "      <th>7</th>\n",
       "      <td>0.991631</td>\n",
       "      <td>133</td>\n",
       "      <td>0.746371</td>\n",
       "      <td>5009</td>\n",
       "      <td>0.245261</td>\n",
       "      <td>-4876</td>\n",
       "    </tr>\n",
       "    <tr>\n",
       "      <th>8</th>\n",
       "      <td>0.998355</td>\n",
       "      <td>1192</td>\n",
       "      <td>0.771080</td>\n",
       "      <td>7711</td>\n",
       "      <td>0.227274</td>\n",
       "      <td>-6519</td>\n",
       "    </tr>\n",
       "    <tr>\n",
       "      <th>9</th>\n",
       "      <td>0.999530</td>\n",
       "      <td>8353</td>\n",
       "      <td>0.954174</td>\n",
       "      <td>3710</td>\n",
       "      <td>0.045356</td>\n",
       "      <td>4643</td>\n",
       "    </tr>\n",
       "  </tbody>\n",
       "</table>\n",
       "</div>"
      ],
      "text/plain": [
       "                  score_mean_x  camera_id_x  score_mean_y  camera_id_y  \\\n",
       "index_last_score                                                         \n",
       "7                     0.991631          133      0.746371         5009   \n",
       "8                     0.998355         1192      0.771080         7711   \n",
       "9                     0.999530         8353      0.954174         3710   \n",
       "\n",
       "                    razmah  razmah_count  \n",
       "index_last_score                          \n",
       "7                 0.245261         -4876  \n",
       "8                 0.227274         -6519  \n",
       "9                 0.045356          4643  "
      ]
     },
     "execution_count": 93,
     "metadata": {},
     "output_type": "execute_result"
    }
   ],
   "source": [
    "AI_mean"
   ]
  },
  {
   "cell_type": "markdown",
   "metadata": {},
   "source": [
    "Наименьший разброс минимальных/средних скоров символов наблюдается в ГРЗ с количеством 9, также \n",
    "символ \"D\" новый алгоритм хуже всего распознает "
   ]
  },
  {
   "cell_type": "markdown",
   "metadata": {},
   "source": [
    "### Проверка на влияние времени суток на распознование ГРЗ"
   ]
  },
  {
   "cell_type": "code",
   "execution_count": 94,
   "metadata": {},
   "outputs": [],
   "source": [
    "test_AI_1_hour = test_AI.groupby(['result_code','Hour'],as_index= False).agg({'camera_id':'count'})"
   ]
  },
  {
   "cell_type": "code",
   "execution_count": 95,
   "metadata": {},
   "outputs": [
    {
     "data": {
      "text/plain": [
       "<AxesSubplot:xlabel='Hour', ylabel='camera_id'>"
      ]
     },
     "execution_count": 95,
     "metadata": {},
     "output_type": "execute_result"
    },
    {
     "data": {
      "image/png": "[encoded data removed]",
      "text/plain": [
       "<Figure size 720x720 with 1 Axes>"
      ]
     },
     "metadata": {
      "needs_background": "light"
     },
     "output_type": "display_data"
    }
   ],
   "source": [
    "plt.rcParams['figure.figsize']=10,10\n",
    "sns.barplot(y = 'camera_id', x = 'Hour' , data = test_AI_1_hour, hue = 'result_code' )"
   ]
  },
  {
   "cell_type": "code",
   "execution_count": 96,
   "metadata": {},
   "outputs": [],
   "source": [
    "test_not_AI_hour = test_not_AI.groupby(['result_code','Hour'],as_index= False).agg({'camera_id':'count'})"
   ]
  },
  {
   "cell_type": "code",
   "execution_count": 97,
   "metadata": {},
   "outputs": [
    {
     "data": {
      "text/plain": [
       "<AxesSubplot:xlabel='Hour', ylabel='camera_id'>"
      ]
     },
     "execution_count": 97,
     "metadata": {},
     "output_type": "execute_result"
    },
    {
     "data": {
      "image/png": "[encoded data removed]",
      "text/plain": [
       "<Figure size 720x720 with 1 Axes>"
      ]
     },
     "metadata": {
      "needs_background": "light"
     },
     "output_type": "display_data"
    }
   ],
   "source": [
    "sns.barplot(y = 'camera_id', x = 'Hour' , data = test_not_AI_hour, hue = 'result_code' )"
   ]
  },
  {
   "cell_type": "markdown",
   "metadata": {},
   "source": [
    "можно предположить, что в ночное время, новый алгоритм справляется лучше, т к пики приходятся на ночное время, но это можно списать, на то что ночью водители чаще нарушают, т к на дорогах нет машин и машины передвигаются быстрее\n"
   ]
  },
  {
   "cell_type": "code",
   "execution_count": 98,
   "metadata": {},
   "outputs": [],
   "source": [
    "AI_сamera = test_AI.groupby('camera_id',as_index = False).agg({'score_mean': 'mean','result_code':'count'}).sort_values('score_mean')"
   ]
  },
  {
   "cell_type": "code",
   "execution_count": 99,
   "metadata": {},
   "outputs": [],
   "source": [
    "not_AI_camera = test_not_AI.groupby('camera_id',as_index = False).agg({'score_mean': 'mean','result_code':'count'}).sort_values('score_mean')"
   ]
  },
  {
   "cell_type": "code",
   "execution_count": 100,
   "metadata": {},
   "outputs": [],
   "source": [
    "AI_сamera = AI_сamera.merge(not_AI_camera,how ='outer', on = 'camera_id')"
   ]
  },
  {
   "cell_type": "code",
   "execution_count": 101,
   "metadata": {},
   "outputs": [
    {
     "data": {
      "text/html": [
       "<div>\n",
       "<style scoped>\n",
       "    .dataframe tbody tr th:only-of-type {\n",
       "        vertical-align: middle;\n",
       "    }\n",
       "\n",
       "    .dataframe tbody tr th {\n",
       "        vertical-align: top;\n",
       "    }\n",
       "\n",
       "    .dataframe thead th {\n",
       "        text-align: right;\n",
       "    }\n",
       "</style>\n",
       "<table border=\"1\" class=\"dataframe\">\n",
       "  <thead>\n",
       "    <tr style=\"text-align: right;\">\n",
       "      <th></th>\n",
       "      <th>camera_id</th>\n",
       "      <th>score_mean_x</th>\n",
       "      <th>result_code_x</th>\n",
       "      <th>score_mean_y</th>\n",
       "      <th>result_code_y</th>\n",
       "    </tr>\n",
       "  </thead>\n",
       "  <tbody>\n",
       "    <tr>\n",
       "      <th>0</th>\n",
       "      <td>786</td>\n",
       "      <td>0.882213</td>\n",
       "      <td>1.0</td>\n",
       "      <td>0.743150</td>\n",
       "      <td>21.0</td>\n",
       "    </tr>\n",
       "    <tr>\n",
       "      <th>1</th>\n",
       "      <td>5769</td>\n",
       "      <td>0.943679</td>\n",
       "      <td>4.0</td>\n",
       "      <td>0.801596</td>\n",
       "      <td>37.0</td>\n",
       "    </tr>\n",
       "    <tr>\n",
       "      <th>2</th>\n",
       "      <td>3743</td>\n",
       "      <td>0.944960</td>\n",
       "      <td>6.0</td>\n",
       "      <td>0.707434</td>\n",
       "      <td>10.0</td>\n",
       "    </tr>\n",
       "    <tr>\n",
       "      <th>3</th>\n",
       "      <td>788</td>\n",
       "      <td>0.972090</td>\n",
       "      <td>2.0</td>\n",
       "      <td>0.771469</td>\n",
       "      <td>18.0</td>\n",
       "    </tr>\n",
       "    <tr>\n",
       "      <th>4</th>\n",
       "      <td>1149</td>\n",
       "      <td>0.977158</td>\n",
       "      <td>3.0</td>\n",
       "      <td>0.846750</td>\n",
       "      <td>48.0</td>\n",
       "    </tr>\n",
       "    <tr>\n",
       "      <th>...</th>\n",
       "      <td>...</td>\n",
       "      <td>...</td>\n",
       "      <td>...</td>\n",
       "      <td>...</td>\n",
       "      <td>...</td>\n",
       "    </tr>\n",
       "    <tr>\n",
       "      <th>914</th>\n",
       "      <td>8442</td>\n",
       "      <td>NaN</td>\n",
       "      <td>NaN</td>\n",
       "      <td>0.999862</td>\n",
       "      <td>1.0</td>\n",
       "    </tr>\n",
       "    <tr>\n",
       "      <th>915</th>\n",
       "      <td>8830</td>\n",
       "      <td>NaN</td>\n",
       "      <td>NaN</td>\n",
       "      <td>0.999899</td>\n",
       "      <td>1.0</td>\n",
       "    </tr>\n",
       "    <tr>\n",
       "      <th>916</th>\n",
       "      <td>5337</td>\n",
       "      <td>NaN</td>\n",
       "      <td>NaN</td>\n",
       "      <td>0.999913</td>\n",
       "      <td>2.0</td>\n",
       "    </tr>\n",
       "    <tr>\n",
       "      <th>917</th>\n",
       "      <td>6094</td>\n",
       "      <td>NaN</td>\n",
       "      <td>NaN</td>\n",
       "      <td>0.999929</td>\n",
       "      <td>1.0</td>\n",
       "    </tr>\n",
       "    <tr>\n",
       "      <th>918</th>\n",
       "      <td>837</td>\n",
       "      <td>NaN</td>\n",
       "      <td>NaN</td>\n",
       "      <td>0.999963</td>\n",
       "      <td>1.0</td>\n",
       "    </tr>\n",
       "  </tbody>\n",
       "</table>\n",
       "<p>919 rows × 5 columns</p>\n",
       "</div>"
      ],
      "text/plain": [
       "     camera_id  score_mean_x  result_code_x  score_mean_y  result_code_y\n",
       "0          786      0.882213            1.0      0.743150           21.0\n",
       "1         5769      0.943679            4.0      0.801596           37.0\n",
       "2         3743      0.944960            6.0      0.707434           10.0\n",
       "3          788      0.972090            2.0      0.771469           18.0\n",
       "4         1149      0.977158            3.0      0.846750           48.0\n",
       "..         ...           ...            ...           ...            ...\n",
       "914       8442           NaN            NaN      0.999862            1.0\n",
       "915       8830           NaN            NaN      0.999899            1.0\n",
       "916       5337           NaN            NaN      0.999913            2.0\n",
       "917       6094           NaN            NaN      0.999929            1.0\n",
       "918        837           NaN            NaN      0.999963            1.0\n",
       "\n",
       "[919 rows x 5 columns]"
      ]
     },
     "execution_count": 101,
     "metadata": {},
     "output_type": "execute_result"
    }
   ],
   "source": [
    "AI_сamera"
   ]
  },
  {
   "cell_type": "code",
   "execution_count": 102,
   "metadata": {},
   "outputs": [
    {
     "data": {
      "text/plain": [
       "camera_id          0\n",
       "score_mean_x     202\n",
       "result_code_x    202\n",
       "score_mean_y      29\n",
       "result_code_y     29\n",
       "dtype: int64"
      ]
     },
     "execution_count": 102,
     "metadata": {},
     "output_type": "execute_result"
    }
   ],
   "source": [
    "AI_сamera.isnull().sum()"
   ]
  },
  {
   "cell_type": "code",
   "execution_count": 103,
   "metadata": {},
   "outputs": [],
   "source": [
    "camera_not_AI = camera_not_AI = AI_сamera.loc[AI_сamera['score_mean_x'].isnull()]"
   ]
  },
  {
   "cell_type": "markdown",
   "metadata": {},
   "source": [
    "на 29 камерах, новый алгоритм ни разу не ошибся, в то время, как старый ошибался\n"
   ]
  },
  {
   "cell_type": "code",
   "execution_count": 104,
   "metadata": {},
   "outputs": [],
   "source": [
    "count_AI_all = test.loc[(test['regno_recognize'] == test['regno'])]"
   ]
  },
  {
   "cell_type": "code",
   "execution_count": null,
   "metadata": {},
   "outputs": [],
   "source": []
  },
  {
   "cell_type": "code",
   "execution_count": 105,
   "metadata": {},
   "outputs": [],
   "source": [
    "count_AI_new_all = test.loc[(test['regno_ai'] == test['regno'])]"
   ]
  },
  {
   "cell_type": "code",
   "execution_count": 106,
   "metadata": {},
   "outputs": [
    {
     "data": {
      "text/plain": [
       "183103"
      ]
     },
     "execution_count": 106,
     "metadata": {},
     "output_type": "execute_result"
    }
   ],
   "source": [
    "count_AI_all.shape[0]"
   ]
  },
  {
   "cell_type": "code",
   "execution_count": 107,
   "metadata": {
    "scrolled": true
   },
   "outputs": [
    {
     "data": {
      "text/plain": [
       "176351"
      ]
     },
     "execution_count": 107,
     "metadata": {},
     "output_type": "execute_result"
    }
   ],
   "source": [
    "count_AI_new_all.shape[0]"
   ]
  },
  {
   "cell_type": "code",
   "execution_count": 123,
   "metadata": {},
   "outputs": [
    {
     "data": {
      "text/html": [
       "<div>\n",
       "<style scoped>\n",
       "    .dataframe tbody tr th:only-of-type {\n",
       "        vertical-align: middle;\n",
       "    }\n",
       "\n",
       "    .dataframe tbody tr th {\n",
       "        vertical-align: top;\n",
       "    }\n",
       "\n",
       "    .dataframe thead th {\n",
       "        text-align: right;\n",
       "    }\n",
       "</style>\n",
       "<table border=\"1\" class=\"dataframe\">\n",
       "  <thead>\n",
       "    <tr style=\"text-align: right;\">\n",
       "      <th></th>\n",
       "      <th>camera_id</th>\n",
       "      <th>time_check</th>\n",
       "      <th>regno_recognize</th>\n",
       "      <th>regno_ai</th>\n",
       "      <th>regno</th>\n",
       "      <th>result_code</th>\n",
       "      <th>symbols</th>\n",
       "      <th>symbol_scores</th>\n",
       "      <th>length_scores</th>\n",
       "      <th>Hour</th>\n",
       "      <th>length_scores_end</th>\n",
       "      <th>index_last_score</th>\n",
       "      <th>pos_max_score_symbol</th>\n",
       "      <th>symbols_max_score</th>\n",
       "      <th>score_max</th>\n",
       "      <th>pos_min_score_symbol</th>\n",
       "      <th>symbols_min_score</th>\n",
       "      <th>score_min</th>\n",
       "      <th>score_mean</th>\n",
       "    </tr>\n",
       "    <tr>\n",
       "      <th>id</th>\n",
       "      <th></th>\n",
       "      <th></th>\n",
       "      <th></th>\n",
       "      <th></th>\n",
       "      <th></th>\n",
       "      <th></th>\n",
       "      <th></th>\n",
       "      <th></th>\n",
       "      <th></th>\n",
       "      <th></th>\n",
       "      <th></th>\n",
       "      <th></th>\n",
       "      <th></th>\n",
       "      <th></th>\n",
       "      <th></th>\n",
       "      <th></th>\n",
       "      <th></th>\n",
       "      <th></th>\n",
       "      <th></th>\n",
       "    </tr>\n",
       "  </thead>\n",
       "  <tbody>\n",
       "    <tr>\n",
       "      <th>2923</th>\n",
       "      <td>8406</td>\n",
       "      <td>2022-04-15 00:19:40</td>\n",
       "      <td>АО633208</td>\n",
       "      <td>036D022</td>\n",
       "      <td>АО633208</td>\n",
       "      <td>1</td>\n",
       "      <td>[\"0\", \"3\", \"6\", \"D\", \"0\", \"2\", \"2\"]</td>\n",
       "      <td>[0.4536544978618622, 0.8322334885597229, 0.994...</td>\n",
       "      <td>[0.0003294070775154978, 0.00032968790037557483...</td>\n",
       "      <td>0</td>\n",
       "      <td>0.522891</td>\n",
       "      <td>7</td>\n",
       "      <td>2</td>\n",
       "      <td>6</td>\n",
       "      <td>0.994161</td>\n",
       "      <td>3</td>\n",
       "      <td>D</td>\n",
       "      <td>0.237004</td>\n",
       "      <td>0.572003</td>\n",
       "    </tr>\n",
       "    <tr>\n",
       "      <th>3830</th>\n",
       "      <td>2473</td>\n",
       "      <td>2022-04-15 00:26:01</td>\n",
       "      <td>I_МК777</td>\n",
       "      <td>151D17777</td>\n",
       "      <td>IМК777</td>\n",
       "      <td>5</td>\n",
       "      <td>[\"1\", \"5\", \"1\", \"D\", \"1\", \"7\", \"7\", \"7\", \"7\"]</td>\n",
       "      <td>[0.9266636371612549, 0.9765215516090393, 0.785...</td>\n",
       "      <td>[0.000006501989901153138, 0.000006485819540102...</td>\n",
       "      <td>0</td>\n",
       "      <td>0.973200</td>\n",
       "      <td>9</td>\n",
       "      <td>8</td>\n",
       "      <td>7</td>\n",
       "      <td>0.999052</td>\n",
       "      <td>3</td>\n",
       "      <td>D</td>\n",
       "      <td>0.592541</td>\n",
       "      <td>0.844905</td>\n",
       "    </tr>\n",
       "    <tr>\n",
       "      <th>4532</th>\n",
       "      <td>6361</td>\n",
       "      <td>2022-04-15 00:31:02</td>\n",
       "      <td>35QU113</td>\n",
       "      <td>331D031</td>\n",
       "      <td>35QU113</td>\n",
       "      <td>5</td>\n",
       "      <td>[\"3\", \"3\", \"1\", \"D\", \"0\", \"3\", \"1\"]</td>\n",
       "      <td>[0.3546190559864044, 0.7555138468742371, 0.458...</td>\n",
       "      <td>[0.00004583180998452008, 0.0000456228772236499...</td>\n",
       "      <td>0</td>\n",
       "      <td>0.972103</td>\n",
       "      <td>7</td>\n",
       "      <td>1</td>\n",
       "      <td>3</td>\n",
       "      <td>0.755514</td>\n",
       "      <td>3</td>\n",
       "      <td>D</td>\n",
       "      <td>0.351241</td>\n",
       "      <td>0.505199</td>\n",
       "    </tr>\n",
       "    <tr>\n",
       "      <th>5179</th>\n",
       "      <td>737</td>\n",
       "      <td>2022-04-15 00:35:29</td>\n",
       "      <td>35RС280</td>\n",
       "      <td>3К5D660</td>\n",
       "      <td>35RС280</td>\n",
       "      <td>5</td>\n",
       "      <td>[\"3\", \"К\", \"5\", \"D\", \"6\", \"6\", \"0\"]</td>\n",
       "      <td>[0.424351304769516, 0.4316149353981018, 0.4639...</td>\n",
       "      <td>[0.00010353925608796999, 0.0001033678854582831...</td>\n",
       "      <td>0</td>\n",
       "      <td>0.945248</td>\n",
       "      <td>7</td>\n",
       "      <td>6</td>\n",
       "      <td>0</td>\n",
       "      <td>0.724160</td>\n",
       "      <td>3</td>\n",
       "      <td>D</td>\n",
       "      <td>0.367080</td>\n",
       "      <td>0.489247</td>\n",
       "    </tr>\n",
       "    <tr>\n",
       "      <th>7244</th>\n",
       "      <td>1121</td>\n",
       "      <td>2022-04-15 00:50:42</td>\n",
       "      <td>71UА077</td>\n",
       "      <td>170D00777</td>\n",
       "      <td>71UА077</td>\n",
       "      <td>5</td>\n",
       "      <td>[\"1\", \"7\", \"0\", \"D\", \"0\", \"0\", \"7\", \"7\", \"7\"]</td>\n",
       "      <td>[0.8254249691963196, 0.9990645051002502, 0.608...</td>\n",
       "      <td>[0.00009998602035921067, 0.0001003481738734990...</td>\n",
       "      <td>0</td>\n",
       "      <td>0.518265</td>\n",
       "      <td>9</td>\n",
       "      <td>1</td>\n",
       "      <td>7</td>\n",
       "      <td>0.999065</td>\n",
       "      <td>3</td>\n",
       "      <td>D</td>\n",
       "      <td>0.422570</td>\n",
       "      <td>0.752308</td>\n",
       "    </tr>\n",
       "    <tr>\n",
       "      <th>...</th>\n",
       "      <td>...</td>\n",
       "      <td>...</td>\n",
       "      <td>...</td>\n",
       "      <td>...</td>\n",
       "      <td>...</td>\n",
       "      <td>...</td>\n",
       "      <td>...</td>\n",
       "      <td>...</td>\n",
       "      <td>...</td>\n",
       "      <td>...</td>\n",
       "      <td>...</td>\n",
       "      <td>...</td>\n",
       "      <td>...</td>\n",
       "      <td>...</td>\n",
       "      <td>...</td>\n",
       "      <td>...</td>\n",
       "      <td>...</td>\n",
       "      <td>...</td>\n",
       "      <td>...</td>\n",
       "    </tr>\n",
       "    <tr>\n",
       "      <th>180516</th>\n",
       "      <td>738</td>\n",
       "      <td>2022-04-15 22:29:05</td>\n",
       "      <td>35QS835</td>\n",
       "      <td>35МD533</td>\n",
       "      <td>35QS835</td>\n",
       "      <td>5</td>\n",
       "      <td>[\"3\", \"5\", \"М\", \"D\", \"5\", \"3\", \"3\"]</td>\n",
       "      <td>[0.5897332429885864, 0.8802804350852966, 0.570...</td>\n",
       "      <td>[0.00002291775308549404, 0.0000228559420065721...</td>\n",
       "      <td>22</td>\n",
       "      <td>0.949534</td>\n",
       "      <td>7</td>\n",
       "      <td>1</td>\n",
       "      <td>5</td>\n",
       "      <td>0.880280</td>\n",
       "      <td>3</td>\n",
       "      <td>D</td>\n",
       "      <td>0.382913</td>\n",
       "      <td>0.623865</td>\n",
       "    </tr>\n",
       "    <tr>\n",
       "      <th>181970</th>\n",
       "      <td>7087</td>\n",
       "      <td>2022-04-15 22:38:56</td>\n",
       "      <td>36GD230</td>\n",
       "      <td>336D022</td>\n",
       "      <td>36GD230</td>\n",
       "      <td>5</td>\n",
       "      <td>[\"3\", \"3\", \"6\", \"D\", \"0\", \"2\", \"2\"]</td>\n",
       "      <td>[0.27785393595695496, 0.7296532392501831, 0.99...</td>\n",
       "      <td>[0.00042964163003489375, 0.0004298592393752187...</td>\n",
       "      <td>22</td>\n",
       "      <td>0.539012</td>\n",
       "      <td>7</td>\n",
       "      <td>2</td>\n",
       "      <td>6</td>\n",
       "      <td>0.993688</td>\n",
       "      <td>3</td>\n",
       "      <td>D</td>\n",
       "      <td>0.272902</td>\n",
       "      <td>0.524323</td>\n",
       "    </tr>\n",
       "    <tr>\n",
       "      <th>183210</th>\n",
       "      <td>6114</td>\n",
       "      <td>2022-04-15 22:47:07</td>\n",
       "      <td>75UU075</td>\n",
       "      <td>17МD001</td>\n",
       "      <td>75UU075</td>\n",
       "      <td>5</td>\n",
       "      <td>[\"1\", \"7\", \"М\", \"D\", \"0\", \"0\", \"1\"]</td>\n",
       "      <td>[0.534123957157135, 0.761878252029419, 0.69398...</td>\n",
       "      <td>[0.000014639965229434893, 0.000014645439478044...</td>\n",
       "      <td>22</td>\n",
       "      <td>0.993898</td>\n",
       "      <td>7</td>\n",
       "      <td>4</td>\n",
       "      <td>0</td>\n",
       "      <td>0.862157</td>\n",
       "      <td>3</td>\n",
       "      <td>D</td>\n",
       "      <td>0.252516</td>\n",
       "      <td>0.595407</td>\n",
       "    </tr>\n",
       "    <tr>\n",
       "      <th>184744</th>\n",
       "      <td>825</td>\n",
       "      <td>2022-04-15 22:57:19</td>\n",
       "      <td>09МU099</td>\n",
       "      <td>009D099</td>\n",
       "      <td>09МU099</td>\n",
       "      <td>5</td>\n",
       "      <td>[\"0\", \"0\", \"9\", \"D\", \"0\", \"9\", \"9\"]</td>\n",
       "      <td>[0.41475802659988403, 0.6965453028678894, 0.95...</td>\n",
       "      <td>[0.00003585064769140445, 0.0000360918784281238...</td>\n",
       "      <td>22</td>\n",
       "      <td>0.972227</td>\n",
       "      <td>7</td>\n",
       "      <td>2</td>\n",
       "      <td>9</td>\n",
       "      <td>0.950420</td>\n",
       "      <td>3</td>\n",
       "      <td>D</td>\n",
       "      <td>0.219018</td>\n",
       "      <td>0.623051</td>\n",
       "    </tr>\n",
       "    <tr>\n",
       "      <th>192835</th>\n",
       "      <td>752</td>\n",
       "      <td>2022-04-15 23:50:38</td>\n",
       "      <td>АSVQ256</td>\n",
       "      <td>351D026</td>\n",
       "      <td>АSVQ256</td>\n",
       "      <td>5</td>\n",
       "      <td>[\"3\", \"5\", \"1\", \"D\", \"0\", \"2\", \"6\"]</td>\n",
       "      <td>[0.4551474153995514, 0.5171386003494263, 0.317...</td>\n",
       "      <td>[0.00009975945431506261, 0.0000992395507637411...</td>\n",
       "      <td>23</td>\n",
       "      <td>0.922481</td>\n",
       "      <td>7</td>\n",
       "      <td>1</td>\n",
       "      <td>5</td>\n",
       "      <td>0.517139</td>\n",
       "      <td>3</td>\n",
       "      <td>D</td>\n",
       "      <td>0.223863</td>\n",
       "      <td>0.371057</td>\n",
       "    </tr>\n",
       "  </tbody>\n",
       "</table>\n",
       "<p>110 rows × 19 columns</p>\n",
       "</div>"
      ],
      "text/plain": [
       "        camera_id          time_check regno_recognize   regno_ai     regno  \\\n",
       "id                                                                           \n",
       "2923         8406 2022-04-15 00:19:40        АО633208    036D022  АО633208   \n",
       "3830         2473 2022-04-15 00:26:01         I_МК777  151D17777    IМК777   \n",
       "4532         6361 2022-04-15 00:31:02         35QU113    331D031   35QU113   \n",
       "5179          737 2022-04-15 00:35:29         35RС280    3К5D660   35RС280   \n",
       "7244         1121 2022-04-15 00:50:42         71UА077  170D00777   71UА077   \n",
       "...           ...                 ...             ...        ...       ...   \n",
       "180516        738 2022-04-15 22:29:05         35QS835    35МD533   35QS835   \n",
       "181970       7087 2022-04-15 22:38:56         36GD230    336D022   36GD230   \n",
       "183210       6114 2022-04-15 22:47:07         75UU075    17МD001   75UU075   \n",
       "184744        825 2022-04-15 22:57:19         09МU099    009D099   09МU099   \n",
       "192835        752 2022-04-15 23:50:38         АSVQ256    351D026   АSVQ256   \n",
       "\n",
       "        result_code                                        symbols  \\\n",
       "id                                                                   \n",
       "2923              1            [\"0\", \"3\", \"6\", \"D\", \"0\", \"2\", \"2\"]   \n",
       "3830              5  [\"1\", \"5\", \"1\", \"D\", \"1\", \"7\", \"7\", \"7\", \"7\"]   \n",
       "4532              5            [\"3\", \"3\", \"1\", \"D\", \"0\", \"3\", \"1\"]   \n",
       "5179              5            [\"3\", \"К\", \"5\", \"D\", \"6\", \"6\", \"0\"]   \n",
       "7244              5  [\"1\", \"7\", \"0\", \"D\", \"0\", \"0\", \"7\", \"7\", \"7\"]   \n",
       "...             ...                                            ...   \n",
       "180516            5            [\"3\", \"5\", \"М\", \"D\", \"5\", \"3\", \"3\"]   \n",
       "181970            5            [\"3\", \"3\", \"6\", \"D\", \"0\", \"2\", \"2\"]   \n",
       "183210            5            [\"1\", \"7\", \"М\", \"D\", \"0\", \"0\", \"1\"]   \n",
       "184744            5            [\"0\", \"0\", \"9\", \"D\", \"0\", \"9\", \"9\"]   \n",
       "192835            5            [\"3\", \"5\", \"1\", \"D\", \"0\", \"2\", \"6\"]   \n",
       "\n",
       "                                            symbol_scores  \\\n",
       "id                                                          \n",
       "2923    [0.4536544978618622, 0.8322334885597229, 0.994...   \n",
       "3830    [0.9266636371612549, 0.9765215516090393, 0.785...   \n",
       "4532    [0.3546190559864044, 0.7555138468742371, 0.458...   \n",
       "5179    [0.424351304769516, 0.4316149353981018, 0.4639...   \n",
       "7244    [0.8254249691963196, 0.9990645051002502, 0.608...   \n",
       "...                                                   ...   \n",
       "180516  [0.5897332429885864, 0.8802804350852966, 0.570...   \n",
       "181970  [0.27785393595695496, 0.7296532392501831, 0.99...   \n",
       "183210  [0.534123957157135, 0.761878252029419, 0.69398...   \n",
       "184744  [0.41475802659988403, 0.6965453028678894, 0.95...   \n",
       "192835  [0.4551474153995514, 0.5171386003494263, 0.317...   \n",
       "\n",
       "                                            length_scores  Hour  \\\n",
       "id                                                                \n",
       "2923    [0.0003294070775154978, 0.00032968790037557483...     0   \n",
       "3830    [0.000006501989901153138, 0.000006485819540102...     0   \n",
       "4532    [0.00004583180998452008, 0.0000456228772236499...     0   \n",
       "5179    [0.00010353925608796999, 0.0001033678854582831...     0   \n",
       "7244    [0.00009998602035921067, 0.0001003481738734990...     0   \n",
       "...                                                   ...   ...   \n",
       "180516  [0.00002291775308549404, 0.0000228559420065721...    22   \n",
       "181970  [0.00042964163003489375, 0.0004298592393752187...    22   \n",
       "183210  [0.000014639965229434893, 0.000014645439478044...    22   \n",
       "184744  [0.00003585064769140445, 0.0000360918784281238...    22   \n",
       "192835  [0.00009975945431506261, 0.0000992395507637411...    23   \n",
       "\n",
       "        length_scores_end  index_last_score pos_max_score_symbol  \\\n",
       "id                                                                 \n",
       "2923             0.522891                 7                    2   \n",
       "3830             0.973200                 9                    8   \n",
       "4532             0.972103                 7                    1   \n",
       "5179             0.945248                 7                    6   \n",
       "7244             0.518265                 9                    1   \n",
       "...                   ...               ...                  ...   \n",
       "180516           0.949534                 7                    1   \n",
       "181970           0.539012                 7                    2   \n",
       "183210           0.993898                 7                    4   \n",
       "184744           0.972227                 7                    2   \n",
       "192835           0.922481                 7                    1   \n",
       "\n",
       "       symbols_max_score  score_max pos_min_score_symbol symbols_min_score  \\\n",
       "id                                                                           \n",
       "2923                   6   0.994161                    3                 D   \n",
       "3830                   7   0.999052                    3                 D   \n",
       "4532                   3   0.755514                    3                 D   \n",
       "5179                   0   0.724160                    3                 D   \n",
       "7244                   7   0.999065                    3                 D   \n",
       "...                  ...        ...                  ...               ...   \n",
       "180516                 5   0.880280                    3                 D   \n",
       "181970                 6   0.993688                    3                 D   \n",
       "183210                 0   0.862157                    3                 D   \n",
       "184744                 9   0.950420                    3                 D   \n",
       "192835                 5   0.517139                    3                 D   \n",
       "\n",
       "        score_min  score_mean  \n",
       "id                             \n",
       "2923     0.237004    0.572003  \n",
       "3830     0.592541    0.844905  \n",
       "4532     0.351241    0.505199  \n",
       "5179     0.367080    0.489247  \n",
       "7244     0.422570    0.752308  \n",
       "...           ...         ...  \n",
       "180516   0.382913    0.623865  \n",
       "181970   0.272902    0.524323  \n",
       "183210   0.252516    0.595407  \n",
       "184744   0.219018    0.623051  \n",
       "192835   0.223863    0.371057  \n",
       "\n",
       "[110 rows x 19 columns]"
      ]
     },
     "execution_count": 123,
     "metadata": {},
     "output_type": "execute_result"
    }
   ],
   "source": [
    "test.loc[test['symbols_min_score']=='D']"
   ]
  },
  {
   "cell_type": "code",
   "execution_count": 109,
   "metadata": {},
   "outputs": [
    {
     "ename": "NameError",
     "evalue": "name 'pos_max_score_symbol' is not defined",
     "output_type": "error",
     "traceback": [
      "\u001b[1;31m---------------------------------------------------------------------------\u001b[0m",
      "\u001b[1;31mNameError\u001b[0m                                 Traceback (most recent call last)",
      "\u001b[1;32m<ipython-input-109-b7884c4e38dd>\u001b[0m in \u001b[0;36m<module>\u001b[1;34m\u001b[0m\n\u001b[1;32m----> 1\u001b[1;33m \u001b[0mpos_max_score_symbol\u001b[0m\u001b[1;33m\u001b[0m\u001b[1;33m\u001b[0m\u001b[0m\n\u001b[0m",
      "\u001b[1;31mNameError\u001b[0m: name 'pos_max_score_symbol' is not defined"
     ]
    }
   ],
   "source": [
    "pos_max_score_symbol"
   ]
  },
  {
   "cell_type": "code",
   "execution_count": 110,
   "metadata": {},
   "outputs": [],
   "source": [
    "AI_mean_pos = test_AI.groupby('pos_max_score_symbol').agg({'score_max': 'mean','camera_id':'count'}).sort_values('pos_max_score_symbol')"
   ]
  },
  {
   "cell_type": "code",
   "execution_count": 111,
   "metadata": {},
   "outputs": [],
   "source": [
    "not_AI_mean_pos = test_not_AI.groupby('pos_max_score_symbol').agg({'score_max': 'mean','camera_id': 'count'}).sort_values('pos_max_score_symbol')"
   ]
  },
  {
   "cell_type": "code",
   "execution_count": 114,
   "metadata": {},
   "outputs": [
    {
     "data": {
      "text/html": [
       "<div>\n",
       "<style scoped>\n",
       "    .dataframe tbody tr th:only-of-type {\n",
       "        vertical-align: middle;\n",
       "    }\n",
       "\n",
       "    .dataframe tbody tr th {\n",
       "        vertical-align: top;\n",
       "    }\n",
       "\n",
       "    .dataframe thead th {\n",
       "        text-align: right;\n",
       "    }\n",
       "</style>\n",
       "<table border=\"1\" class=\"dataframe\">\n",
       "  <thead>\n",
       "    <tr style=\"text-align: right;\">\n",
       "      <th></th>\n",
       "      <th>score_max</th>\n",
       "      <th>camera_id</th>\n",
       "    </tr>\n",
       "    <tr>\n",
       "      <th>pos_max_score_symbol</th>\n",
       "      <th></th>\n",
       "      <th></th>\n",
       "    </tr>\n",
       "  </thead>\n",
       "  <tbody>\n",
       "    <tr>\n",
       "      <th>0</th>\n",
       "      <td>0.974312</td>\n",
       "      <td>903</td>\n",
       "    </tr>\n",
       "    <tr>\n",
       "      <th>1</th>\n",
       "      <td>0.976377</td>\n",
       "      <td>2631</td>\n",
       "    </tr>\n",
       "    <tr>\n",
       "      <th>2</th>\n",
       "      <td>0.979880</td>\n",
       "      <td>3344</td>\n",
       "    </tr>\n",
       "    <tr>\n",
       "      <th>3</th>\n",
       "      <td>0.978159</td>\n",
       "      <td>2072</td>\n",
       "    </tr>\n",
       "    <tr>\n",
       "      <th>4</th>\n",
       "      <td>0.966419</td>\n",
       "      <td>1405</td>\n",
       "    </tr>\n",
       "    <tr>\n",
       "      <th>5</th>\n",
       "      <td>0.975389</td>\n",
       "      <td>822</td>\n",
       "    </tr>\n",
       "    <tr>\n",
       "      <th>6</th>\n",
       "      <td>0.984119</td>\n",
       "      <td>4184</td>\n",
       "    </tr>\n",
       "    <tr>\n",
       "      <th>7</th>\n",
       "      <td>0.987954</td>\n",
       "      <td>893</td>\n",
       "    </tr>\n",
       "    <tr>\n",
       "      <th>8</th>\n",
       "      <td>0.991670</td>\n",
       "      <td>176</td>\n",
       "    </tr>\n",
       "  </tbody>\n",
       "</table>\n",
       "</div>"
      ],
      "text/plain": [
       "                      score_max  camera_id\n",
       "pos_max_score_symbol                      \n",
       "0                      0.974312        903\n",
       "1                      0.976377       2631\n",
       "2                      0.979880       3344\n",
       "3                      0.978159       2072\n",
       "4                      0.966419       1405\n",
       "5                      0.975389        822\n",
       "6                      0.984119       4184\n",
       "7                      0.987954        893\n",
       "8                      0.991670        176"
      ]
     },
     "execution_count": 114,
     "metadata": {},
     "output_type": "execute_result"
    }
   ],
   "source": [
    "not_AI_mean_pos"
   ]
  },
  {
   "cell_type": "code",
   "execution_count": 115,
   "metadata": {},
   "outputs": [
    {
     "data": {
      "text/html": [
       "<div>\n",
       "<style scoped>\n",
       "    .dataframe tbody tr th:only-of-type {\n",
       "        vertical-align: middle;\n",
       "    }\n",
       "\n",
       "    .dataframe tbody tr th {\n",
       "        vertical-align: top;\n",
       "    }\n",
       "\n",
       "    .dataframe thead th {\n",
       "        text-align: right;\n",
       "    }\n",
       "</style>\n",
       "<table border=\"1\" class=\"dataframe\">\n",
       "  <thead>\n",
       "    <tr style=\"text-align: right;\">\n",
       "      <th></th>\n",
       "      <th>score_max</th>\n",
       "      <th>camera_id</th>\n",
       "    </tr>\n",
       "    <tr>\n",
       "      <th>pos_max_score_symbol</th>\n",
       "      <th></th>\n",
       "      <th></th>\n",
       "    </tr>\n",
       "  </thead>\n",
       "  <tbody>\n",
       "    <tr>\n",
       "      <th>0</th>\n",
       "      <td>0.999953</td>\n",
       "      <td>186</td>\n",
       "    </tr>\n",
       "    <tr>\n",
       "      <th>1</th>\n",
       "      <td>0.999813</td>\n",
       "      <td>603</td>\n",
       "    </tr>\n",
       "    <tr>\n",
       "      <th>2</th>\n",
       "      <td>0.999966</td>\n",
       "      <td>1224</td>\n",
       "    </tr>\n",
       "    <tr>\n",
       "      <th>3</th>\n",
       "      <td>0.999935</td>\n",
       "      <td>1157</td>\n",
       "    </tr>\n",
       "    <tr>\n",
       "      <th>4</th>\n",
       "      <td>0.999969</td>\n",
       "      <td>944</td>\n",
       "    </tr>\n",
       "    <tr>\n",
       "      <th>5</th>\n",
       "      <td>0.999957</td>\n",
       "      <td>286</td>\n",
       "    </tr>\n",
       "    <tr>\n",
       "      <th>6</th>\n",
       "      <td>0.999983</td>\n",
       "      <td>3377</td>\n",
       "    </tr>\n",
       "    <tr>\n",
       "      <th>7</th>\n",
       "      <td>0.999990</td>\n",
       "      <td>1445</td>\n",
       "    </tr>\n",
       "    <tr>\n",
       "      <th>8</th>\n",
       "      <td>0.999971</td>\n",
       "      <td>456</td>\n",
       "    </tr>\n",
       "  </tbody>\n",
       "</table>\n",
       "</div>"
      ],
      "text/plain": [
       "                      score_max  camera_id\n",
       "pos_max_score_symbol                      \n",
       "0                      0.999953        186\n",
       "1                      0.999813        603\n",
       "2                      0.999966       1224\n",
       "3                      0.999935       1157\n",
       "4                      0.999969        944\n",
       "5                      0.999957        286\n",
       "6                      0.999983       3377\n",
       "7                      0.999990       1445\n",
       "8                      0.999971        456"
      ]
     },
     "execution_count": 115,
     "metadata": {},
     "output_type": "execute_result"
    }
   ],
   "source": [
    "AI_mean_pos"
   ]
  },
  {
   "cell_type": "code",
   "execution_count": 116,
   "metadata": {},
   "outputs": [],
   "source": [
    "AI_mean_pos = AI_mean_pos.merge(not_AI_mean_pos, how = 'outer', on='pos_max_score_symbol')\n"
   ]
  },
  {
   "cell_type": "code",
   "execution_count": 119,
   "metadata": {},
   "outputs": [],
   "source": [
    "AI_mean_pos['razmah'] = AI_mean_pos['score_max_x'] - AI_mean_pos['score_max_y']"
   ]
  },
  {
   "cell_type": "code",
   "execution_count": 120,
   "metadata": {},
   "outputs": [],
   "source": [
    "AI_mean_pos['razmah_count'] = AI_mean_pos['camera_id_x'] - AI_mean_pos['camera_id_y']"
   ]
  },
  {
   "cell_type": "code",
   "execution_count": null,
   "metadata": {},
   "outputs": [],
   "source": [
    "позиция символов, их средний максимасльный скор,их количество по позиции, и размах "
   ]
  },
  {
   "cell_type": "code",
   "execution_count": 121,
   "metadata": {},
   "outputs": [
    {
     "data": {
      "text/html": [
       "<div>\n",
       "<style scoped>\n",
       "    .dataframe tbody tr th:only-of-type {\n",
       "        vertical-align: middle;\n",
       "    }\n",
       "\n",
       "    .dataframe tbody tr th {\n",
       "        vertical-align: top;\n",
       "    }\n",
       "\n",
       "    .dataframe thead th {\n",
       "        text-align: right;\n",
       "    }\n",
       "</style>\n",
       "<table border=\"1\" class=\"dataframe\">\n",
       "  <thead>\n",
       "    <tr style=\"text-align: right;\">\n",
       "      <th></th>\n",
       "      <th>score_max_x</th>\n",
       "      <th>camera_id_x</th>\n",
       "      <th>score_max_y</th>\n",
       "      <th>camera_id_y</th>\n",
       "      <th>razmah_count</th>\n",
       "      <th>razmah</th>\n",
       "    </tr>\n",
       "    <tr>\n",
       "      <th>pos_max_score_symbol</th>\n",
       "      <th></th>\n",
       "      <th></th>\n",
       "      <th></th>\n",
       "      <th></th>\n",
       "      <th></th>\n",
       "      <th></th>\n",
       "    </tr>\n",
       "  </thead>\n",
       "  <tbody>\n",
       "    <tr>\n",
       "      <th>0</th>\n",
       "      <td>0.999953</td>\n",
       "      <td>186</td>\n",
       "      <td>0.974312</td>\n",
       "      <td>903</td>\n",
       "      <td>-717</td>\n",
       "      <td>0.025642</td>\n",
       "    </tr>\n",
       "    <tr>\n",
       "      <th>1</th>\n",
       "      <td>0.999813</td>\n",
       "      <td>603</td>\n",
       "      <td>0.976377</td>\n",
       "      <td>2631</td>\n",
       "      <td>-2028</td>\n",
       "      <td>0.023436</td>\n",
       "    </tr>\n",
       "    <tr>\n",
       "      <th>2</th>\n",
       "      <td>0.999966</td>\n",
       "      <td>1224</td>\n",
       "      <td>0.979880</td>\n",
       "      <td>3344</td>\n",
       "      <td>-2120</td>\n",
       "      <td>0.020086</td>\n",
       "    </tr>\n",
       "    <tr>\n",
       "      <th>3</th>\n",
       "      <td>0.999935</td>\n",
       "      <td>1157</td>\n",
       "      <td>0.978159</td>\n",
       "      <td>2072</td>\n",
       "      <td>-915</td>\n",
       "      <td>0.021776</td>\n",
       "    </tr>\n",
       "    <tr>\n",
       "      <th>4</th>\n",
       "      <td>0.999969</td>\n",
       "      <td>944</td>\n",
       "      <td>0.966419</td>\n",
       "      <td>1405</td>\n",
       "      <td>-461</td>\n",
       "      <td>0.033549</td>\n",
       "    </tr>\n",
       "    <tr>\n",
       "      <th>5</th>\n",
       "      <td>0.999957</td>\n",
       "      <td>286</td>\n",
       "      <td>0.975389</td>\n",
       "      <td>822</td>\n",
       "      <td>-536</td>\n",
       "      <td>0.024568</td>\n",
       "    </tr>\n",
       "    <tr>\n",
       "      <th>6</th>\n",
       "      <td>0.999983</td>\n",
       "      <td>3377</td>\n",
       "      <td>0.984119</td>\n",
       "      <td>4184</td>\n",
       "      <td>-807</td>\n",
       "      <td>0.015864</td>\n",
       "    </tr>\n",
       "    <tr>\n",
       "      <th>7</th>\n",
       "      <td>0.999990</td>\n",
       "      <td>1445</td>\n",
       "      <td>0.987954</td>\n",
       "      <td>893</td>\n",
       "      <td>552</td>\n",
       "      <td>0.012036</td>\n",
       "    </tr>\n",
       "    <tr>\n",
       "      <th>8</th>\n",
       "      <td>0.999971</td>\n",
       "      <td>456</td>\n",
       "      <td>0.991670</td>\n",
       "      <td>176</td>\n",
       "      <td>280</td>\n",
       "      <td>0.008301</td>\n",
       "    </tr>\n",
       "  </tbody>\n",
       "</table>\n",
       "</div>"
      ],
      "text/plain": [
       "                      score_max_x  camera_id_x  score_max_y  camera_id_y  \\\n",
       "pos_max_score_symbol                                                       \n",
       "0                        0.999953          186     0.974312          903   \n",
       "1                        0.999813          603     0.976377         2631   \n",
       "2                        0.999966         1224     0.979880         3344   \n",
       "3                        0.999935         1157     0.978159         2072   \n",
       "4                        0.999969          944     0.966419         1405   \n",
       "5                        0.999957          286     0.975389          822   \n",
       "6                        0.999983         3377     0.984119         4184   \n",
       "7                        0.999990         1445     0.987954          893   \n",
       "8                        0.999971          456     0.991670          176   \n",
       "\n",
       "                      razmah_count    razmah  \n",
       "pos_max_score_symbol                          \n",
       "0                             -717  0.025642  \n",
       "1                            -2028  0.023436  \n",
       "2                            -2120  0.020086  \n",
       "3                             -915  0.021776  \n",
       "4                             -461  0.033549  \n",
       "5                             -536  0.024568  \n",
       "6                             -807  0.015864  \n",
       "7                              552  0.012036  \n",
       "8                              280  0.008301  "
      ]
     },
     "execution_count": 121,
     "metadata": {},
     "output_type": "execute_result"
    }
   ],
   "source": [
    "AI_mean_pos"
   ]
  },
  {
   "cell_type": "markdown",
   "metadata": {},
   "source": [
    "минимальная разница между максимальнымы скорами и положительный размах между количеством, говорит о том, что новый алгоритм лучше распознает последний символ ГРЗ, чем старый"
   ]
  },
  {
   "cell_type": "markdown",
   "metadata": {},
   "source": [
    "## Вывод"
   ]
  },
  {
   "cell_type": "markdown",
   "metadata": {},
   "source": [
    "1. Если старый алгоритм распознает, что количество символом меньше 9, а новый 9 символов, то в таком случае оптимальным алгоритмом распознования будет новый, основываясь на данных выше(новый алгоритм лучше предсказывает грз если он состоит из 9 символов(8353 против 3710),Наименьший разброс скоров минимальных/средних (0.045356,0.194532), между новым алгоритмом и старым, наблюдается в ГРЗ с количеством символов 9, минимальная разница между максимальнымы скорами и положительный размах между количеством, говорит о том, что новый алгоритм лучше распознает последний символ ГРЗ, чем старый )\n",
    "2. Таким образом, если грз состоит из 9 символов и не состоит из латинских букв, то это позволит увеличить кол-во правильно предсказанных ГРЗ на 8353 - 3710 = 4643"
   ]
  }
 ],
 "metadata": {
  "kernelspec": {
   "display_name": "Python 3",
   "language": "python",
   "name": "python3"
  },
  "language_info": {
   "codemirror_mode": {
    "name": "ipython",
    "version": 3
   },
   "file_extension": ".py",
   "mimetype": "text/x-python",
   "name": "python",
   "nbconvert_exporter": "python",
   "pygments_lexer": "ipython3",
   "version": "3.8.5"
  }
 },
 "nbformat": 4,
 "nbformat_minor": 5
}
